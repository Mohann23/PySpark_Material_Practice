{
 "cells": [
  {
   "cell_type": "code",
   "execution_count": 1,
   "id": "82f0cf9b",
   "metadata": {},
   "outputs": [],
   "source": [
    "from pyspark.sql import SparkSession\n",
    "from pyspark.sql.functions import *\n",
    "\n",
    "#Creating sparkSession\n",
    "spark = SparkSession.builder.appName('Day_1_task').getOrCreate()"
   ]
  },
  {
   "cell_type": "code",
   "execution_count": 2,
   "id": "f3a6d3eb",
   "metadata": {},
   "outputs": [],
   "source": [
    "#mentioning the path which we need to open(read)\n",
    "trans_df = spark.read.csv(r\"C:\\Users\\mohan\\OneDrive\\Desktop\\Spark_Self_Notes\\Day_1_sample_By_Praveen.csv\",sep = ',',inferSchema = True, header = True)"
   ]
  },
  {
   "cell_type": "code",
   "execution_count": 3,
   "id": "9f022806",
   "metadata": {},
   "outputs": [
    {
     "name": "stdout",
     "output_type": "stream",
     "text": [
      "+-----------+-------------+------------+------------+------------+\n",
      "|       Date|  Description|    Deposits|  Withdrawls|     Balance|\n",
      "+-----------+-------------+------------+------------+------------+\n",
      "|20-Aug-2020|       Cheque|    3,391.02|       00.00|   83,839.30|\n",
      "|20-Aug-2020|          ATM|  147,844.20|       00.00|  231,683.50|\n",
      "|20-Aug-2020|         IMPS|   17,192.00|       00.00|  248,875.50|\n",
      "|21-Aug-2020|     Transfer|       08.00|       00.00|  248,883.50|\n",
      "|21-Aug-2020|     Purchase|       00.00|   82,961.17|  165,922.33|\n",
      "|21-Aug-2020|          Tax|   24,459.40|       00.00|  190,381.73|\n",
      "|21-Aug-2020|     Reversal|       00.00|   19,038.17|  171,343.56|\n",
      "|21-Aug-2020|   Commission|  305,878.00|       00.00|  477,221.56|\n",
      "|21-Aug-2020|     Reversal|1,144,337.80|       00.00|1,621,559.36|\n",
      "|21-Aug-2020|     Interest|       00.00|  405,389.84|1,216,169.52|\n",
      "|21-Aug-2020|   Commission|       33.08|       00.00|1,216,202.60|\n",
      "|21-Aug-2020|   Commission|   20,014.02|       00.00|1,236,216.62|\n",
      "|21-Aug-2020|          ATM|       00.00|1,236,216.62|       00.00|\n",
      "|22-Aug-2020|         Cash|    4,031.60|       00.00|    4,031.60|\n",
      "|22-Aug-2020|       Cheque|       04.90|       00.00|    4,036.50|\n",
      "|22-Aug-2020|Miscellaneous|      488.61|       00.00|    4,525.11|\n",
      "|22-Aug-2020|     Interest|  667,800.00|       00.00|  672,325.11|\n",
      "|22-Aug-2020|     Reversal|       00.00|  112,054.19|  560,270.93|\n",
      "|22-Aug-2020|     Purchase|  162,939.70|       00.00|  723,210.63|\n",
      "|22-Aug-2020|     Interest|      361.00|       00.00|  723,571.63|\n",
      "+-----------+-------------+------------+------------+------------+\n",
      "only showing top 20 rows\n",
      "\n"
     ]
    }
   ],
   "source": [
    "#To see the content\n",
    "trans_df.show()"
   ]
  },
  {
   "cell_type": "code",
   "execution_count": 4,
   "id": "34bde61e",
   "metadata": {},
   "outputs": [],
   "source": [
    "#Task_1=====> triming the all columns dynamically\n",
    "#here we have used withColumn with that we can access all the columns of the table\n",
    "trans_df = trans_df.withColumn('Date',trim(trans_df.Date))"
   ]
  },
  {
   "cell_type": "code",
   "execution_count": 6,
   "id": "1ce996ce",
   "metadata": {},
   "outputs": [],
   "source": [
    "trans_df = trans_df.withColumn('Description',trim(trans_df.Description))"
   ]
  },
  {
   "cell_type": "code",
   "execution_count": 7,
   "id": "0da4b3ca",
   "metadata": {},
   "outputs": [],
   "source": [
    "trans_df = trans_df.withColumn('Deposits',trim(trans_df.Deposits))"
   ]
  },
  {
   "cell_type": "code",
   "execution_count": 9,
   "id": "3cb5451a",
   "metadata": {},
   "outputs": [],
   "source": [
    "trans_df = trans_df.withColumn('Withdrawls',trim(trans_df.Withdrawls))"
   ]
  },
  {
   "cell_type": "code",
   "execution_count": 10,
   "id": "a66ea9ad",
   "metadata": {},
   "outputs": [],
   "source": [
    "trans_df = trans_df.withColumn('Balance',trim(trans_df.Balance))"
   ]
  },
  {
   "cell_type": "code",
   "execution_count": 11,
   "id": "184fb69e",
   "metadata": {},
   "outputs": [
    {
     "name": "stdout",
     "output_type": "stream",
     "text": [
      "+-----------+-------------+------------+------------+------------+\n",
      "|       Date|  Description|    Deposits|  Withdrawls|     Balance|\n",
      "+-----------+-------------+------------+------------+------------+\n",
      "|20-Aug-2020|       Cheque|    3,391.02|       00.00|   83,839.30|\n",
      "|20-Aug-2020|          ATM|  147,844.20|       00.00|  231,683.50|\n",
      "|20-Aug-2020|         IMPS|   17,192.00|       00.00|  248,875.50|\n",
      "|21-Aug-2020|     Transfer|       08.00|       00.00|  248,883.50|\n",
      "|21-Aug-2020|     Purchase|       00.00|   82,961.17|  165,922.33|\n",
      "|21-Aug-2020|          Tax|   24,459.40|       00.00|  190,381.73|\n",
      "|21-Aug-2020|     Reversal|       00.00|   19,038.17|  171,343.56|\n",
      "|21-Aug-2020|   Commission|  305,878.00|       00.00|  477,221.56|\n",
      "|21-Aug-2020|     Reversal|1,144,337.80|       00.00|1,621,559.36|\n",
      "|21-Aug-2020|     Interest|       00.00|  405,389.84|1,216,169.52|\n",
      "|21-Aug-2020|   Commission|       33.08|       00.00|1,216,202.60|\n",
      "|21-Aug-2020|   Commission|   20,014.02|       00.00|1,236,216.62|\n",
      "|21-Aug-2020|          ATM|       00.00|1,236,216.62|       00.00|\n",
      "|22-Aug-2020|         Cash|    4,031.60|       00.00|    4,031.60|\n",
      "|22-Aug-2020|       Cheque|       04.90|       00.00|    4,036.50|\n",
      "|22-Aug-2020|Miscellaneous|      488.61|       00.00|    4,525.11|\n",
      "|22-Aug-2020|     Interest|  667,800.00|       00.00|  672,325.11|\n",
      "|22-Aug-2020|     Reversal|       00.00|  112,054.19|  560,270.93|\n",
      "|22-Aug-2020|     Purchase|  162,939.70|       00.00|  723,210.63|\n",
      "|22-Aug-2020|     Interest|      361.00|       00.00|  723,571.63|\n",
      "+-----------+-------------+------------+------------+------------+\n",
      "only showing top 20 rows\n",
      "\n"
     ]
    }
   ],
   "source": [
    "trans_df.show()"
   ]
  },
  {
   "cell_type": "code",
   "execution_count": 12,
   "id": "b1455886",
   "metadata": {},
   "outputs": [],
   "source": [
    "#task_2 prepare reporting dataframe for all kind of decription\n",
    "#here we use where to access the elements of the description column\n",
    "#we can even use filter to get the required data from the table\n",
    "#This is for cheque transactions\n",
    "cheque_df = trans_df.filter(trans_df.Description == 'Cheque')"
   ]
  },
  {
   "cell_type": "code",
   "execution_count": 13,
   "id": "e7213f02",
   "metadata": {},
   "outputs": [
    {
     "data": {
      "text/plain": [
       "70"
      ]
     },
     "execution_count": 13,
     "metadata": {},
     "output_type": "execute_result"
    }
   ],
   "source": [
    "#Here we use count to get the count of the particular elements\n",
    "cheque_df.count()"
   ]
  },
  {
   "cell_type": "code",
   "execution_count": 14,
   "id": "566807e3",
   "metadata": {},
   "outputs": [],
   "source": [
    "#This is for ATM transactions\n",
    "atm_df = trans_df.filter(trans_df.Description == 'ATM')"
   ]
  },
  {
   "cell_type": "code",
   "execution_count": 15,
   "id": "5a43a1ea",
   "metadata": {},
   "outputs": [
    {
     "data": {
      "text/plain": [
       "64"
      ]
     },
     "execution_count": 15,
     "metadata": {},
     "output_type": "execute_result"
    }
   ],
   "source": [
    "atm_df.count()"
   ]
  },
  {
   "cell_type": "code",
   "execution_count": 16,
   "id": "bd825f2f",
   "metadata": {},
   "outputs": [],
   "source": [
    "#This is for IMPS transactions\n",
    "imps_df = trans_df.filter(trans_df.Description == 'IMPS')"
   ]
  },
  {
   "cell_type": "code",
   "execution_count": 17,
   "id": "fc518862",
   "metadata": {},
   "outputs": [
    {
     "data": {
      "text/plain": [
       "65"
      ]
     },
     "execution_count": 17,
     "metadata": {},
     "output_type": "execute_result"
    }
   ],
   "source": [
    "imps_df.count()"
   ]
  },
  {
   "cell_type": "code",
   "execution_count": 18,
   "id": "6bb2c8d3",
   "metadata": {},
   "outputs": [],
   "source": [
    "#This is for Transfer transactions\n",
    "transfer_df = trans_df.filter(trans_df.Description == 'Transfer')"
   ]
  },
  {
   "cell_type": "code",
   "execution_count": 19,
   "id": "51ba3000",
   "metadata": {},
   "outputs": [
    {
     "data": {
      "text/plain": [
       "69"
      ]
     },
     "execution_count": 19,
     "metadata": {},
     "output_type": "execute_result"
    }
   ],
   "source": [
    "transfer_df.count()"
   ]
  },
  {
   "cell_type": "code",
   "execution_count": 20,
   "id": "eed6c814",
   "metadata": {},
   "outputs": [],
   "source": [
    "#This is for Purchase transactions\n",
    "purchase_df = trans_df.filter(trans_df.Description == 'Purchase')"
   ]
  },
  {
   "cell_type": "code",
   "execution_count": 21,
   "id": "47704104",
   "metadata": {},
   "outputs": [
    {
     "data": {
      "text/plain": [
       "65"
      ]
     },
     "execution_count": 21,
     "metadata": {},
     "output_type": "execute_result"
    }
   ],
   "source": [
    "purchase_df.count()"
   ]
  },
  {
   "cell_type": "code",
   "execution_count": 22,
   "id": "cb103139",
   "metadata": {},
   "outputs": [],
   "source": [
    "#This is for Tax transactions\n",
    "tax_df = trans_df.filter(trans_df.Description == 'Tax')"
   ]
  },
  {
   "cell_type": "code",
   "execution_count": 23,
   "id": "1f64200f",
   "metadata": {},
   "outputs": [
    {
     "data": {
      "text/plain": [
       "63"
      ]
     },
     "execution_count": 23,
     "metadata": {},
     "output_type": "execute_result"
    }
   ],
   "source": [
    "tax_df.count()"
   ]
  },
  {
   "cell_type": "code",
   "execution_count": 24,
   "id": "bc096b42",
   "metadata": {},
   "outputs": [],
   "source": [
    "#This is for Reversal transactions\n",
    "reversal_df = trans_df.filter(trans_df.Description == 'Reversal')"
   ]
  },
  {
   "cell_type": "code",
   "execution_count": 25,
   "id": "b9ef45cc",
   "metadata": {},
   "outputs": [
    {
     "data": {
      "text/plain": [
       "69"
      ]
     },
     "execution_count": 25,
     "metadata": {},
     "output_type": "execute_result"
    }
   ],
   "source": [
    "reversal_df.count()"
   ]
  },
  {
   "cell_type": "code",
   "execution_count": 26,
   "id": "1483b07d",
   "metadata": {},
   "outputs": [],
   "source": [
    "#This is for Commission transactions\n",
    "commission_df = trans_df.filter(trans_df.Description == 'Commission')"
   ]
  },
  {
   "cell_type": "code",
   "execution_count": 27,
   "id": "7eba5dc9",
   "metadata": {},
   "outputs": [
    {
     "data": {
      "text/plain": [
       "58"
      ]
     },
     "execution_count": 27,
     "metadata": {},
     "output_type": "execute_result"
    }
   ],
   "source": [
    "commission_df.count()"
   ]
  },
  {
   "cell_type": "code",
   "execution_count": 28,
   "id": "d362e4d3",
   "metadata": {},
   "outputs": [],
   "source": [
    "#This is for Interest transactions\n",
    "interest_df = trans_df.filter(trans_df.Description == 'Interest')"
   ]
  },
  {
   "cell_type": "code",
   "execution_count": 29,
   "id": "ed256152",
   "metadata": {},
   "outputs": [
    {
     "data": {
      "text/plain": [
       "69"
      ]
     },
     "execution_count": 29,
     "metadata": {},
     "output_type": "execute_result"
    }
   ],
   "source": [
    "interest_df.count()"
   ]
  },
  {
   "cell_type": "code",
   "execution_count": 30,
   "id": "4dfa7fb9",
   "metadata": {},
   "outputs": [],
   "source": [
    "#This is for Miscellaneous transactions\n",
    "miscellaneous_df = trans_df.filter(trans_df.Description == 'Miscellaneous')"
   ]
  },
  {
   "cell_type": "code",
   "execution_count": 31,
   "id": "1707b0b7",
   "metadata": {},
   "outputs": [
    {
     "data": {
      "text/plain": [
       "59"
      ]
     },
     "execution_count": 31,
     "metadata": {},
     "output_type": "execute_result"
    }
   ],
   "source": [
    "miscellaneous_df.count()"
   ]
  },
  {
   "cell_type": "code",
   "execution_count": null,
   "id": "740a602a",
   "metadata": {},
   "outputs": [],
   "source": [
    "#if we want to print or show each table we just need to use show() after every varibale name\n",
    "#using that we can display all the data "
   ]
  }
 ],
 "metadata": {
  "kernelspec": {
   "display_name": "Python 3 (ipykernel)",
   "language": "python",
   "name": "python3"
  },
  "language_info": {
   "codemirror_mode": {
    "name": "ipython",
    "version": 3
   },
   "file_extension": ".py",
   "mimetype": "text/x-python",
   "name": "python",
   "nbconvert_exporter": "python",
   "pygments_lexer": "ipython3",
   "version": "3.8.2"
  }
 },
 "nbformat": 4,
 "nbformat_minor": 5
}
