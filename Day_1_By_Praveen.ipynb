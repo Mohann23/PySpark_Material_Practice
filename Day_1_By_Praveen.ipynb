{
 "cells": [
  {
   "cell_type": "code",
   "execution_count": 4,
   "id": "9db038c2",
   "metadata": {},
   "outputs": [],
   "source": [
    "#not required\n",
    "from pyspark.sql import SparkSession\n",
    "\n",
    "from pyspark.sql.functions import *\n",
    "\n",
    "#Create SparkSession\n",
    "spark = SparkSession.builder.appName('SparkByExamples.com').getOrCreate()"
   ]
  },
  {
   "cell_type": "code",
   "execution_count": 59,
   "id": "3536902f",
   "metadata": {},
   "outputs": [],
   "source": [
    "transaction_df = spark.read.csv(r\"C:\\Users\\Raveen\\Downloads\\1000-BT-Records\\1000 BT Records.csv\",sep=',',inferSchema = True, header = True)"
   ]
  },
  {
   "cell_type": "code",
   "execution_count": 60,
   "id": "1dd7d574",
   "metadata": {},
   "outputs": [
    {
     "name": "stdout",
     "output_type": "stream",
     "text": [
      "+-----------+-----------+------------+----------+------------+\n",
      "|       Date|Description|    Deposits|Withdrawls|     Balance|\n",
      "+-----------+-----------+------------+----------+------------+\n",
      "|20-Aug-2020|     Cheque|    3,391.02|     00.00|   83,839.30|\n",
      "|20-Aug-2020|        ATM|  147,844.20|     00.00|  231,683.50|\n",
      "|20-Aug-2020|       IMPS|   17,192.00|     00.00|  248,875.50|\n",
      "|21-Aug-2020|   Transfer|       08.00|     00.00|  248,883.50|\n",
      "|21-Aug-2020|   Purchase|       00.00| 82,961.17|  165,922.33|\n",
      "|21-Aug-2020|        Tax|   24,459.40|     00.00|  190,381.73|\n",
      "|21-Aug-2020|   Reversal|       00.00| 19,038.17|  171,343.56|\n",
      "|21-Aug-2020| Commission|  305,878.00|     00.00|  477,221.56|\n",
      "|21-Aug-2020|   Reversal|1,144,337.80|     00.00|1,621,559.36|\n",
      "|21-Aug-2020|   Interest|       00.00|405,389.84|1,216,169.52|\n",
      "+-----------+-----------+------------+----------+------------+\n",
      "only showing top 10 rows\n",
      "\n"
     ]
    }
   ],
   "source": [
    "transaction_df.show(n=10)"
   ]
  },
  {
   "cell_type": "code",
   "execution_count": 8,
   "id": "fca4854f",
   "metadata": {},
   "outputs": [
    {
     "name": "stdout",
     "output_type": "stream",
     "text": [
      "root\n",
      " |-- Date: string (nullable = true)\n",
      " |-- Description: string (nullable = true)\n",
      " |-- Deposits: string (nullable = true)\n",
      " |-- Withdrawls: string (nullable = true)\n",
      " |-- Balance: string (nullable = true)\n",
      "\n"
     ]
    }
   ],
   "source": [
    "transaction_df.printSchema()"
   ]
  },
  {
   "cell_type": "code",
   "execution_count": 20,
   "id": "e272678a",
   "metadata": {},
   "outputs": [],
   "source": [
    "cheque_df = transaction_df.filter((transaction_df.Description == \"Cheque\"))"
   ]
  },
  {
   "cell_type": "code",
   "execution_count": 12,
   "id": "2d0c5e59",
   "metadata": {},
   "outputs": [
    {
     "data": {
      "text/plain": [
       "70"
      ]
     },
     "execution_count": 12,
     "metadata": {},
     "output_type": "execute_result"
    }
   ],
   "source": [
    "transaction_df.where(transaction_df.Description == \"Cheque\").count()"
   ]
  },
  {
   "cell_type": "code",
   "execution_count": 21,
   "id": "ae1a0861",
   "metadata": {},
   "outputs": [
    {
     "name": "stdout",
     "output_type": "stream",
     "text": [
      "+-----------+-----------+----------+------------+------------+\n",
      "|       Date|Description|  Deposits|  Withdrawls|     Balance|\n",
      "+-----------+-----------+----------+------------+------------+\n",
      "|20-Aug-2020|     Cheque|  3,391.02|       00.00|   83,839.30|\n",
      "|22-Aug-2020|     Cheque|     04.90|       00.00|    4,036.50|\n",
      "|23-Aug-2020|     Cheque|     00.00|   51,683.69|  413,469.50|\n",
      "|23-Aug-2020|     Cheque|  2,952.00|       00.00|  264,750.85|\n",
      "|23-Aug-2020|     Cheque|    429.53|       00.00|  626,223.11|\n",
      "|23-Aug-2020|     Cheque|     00.00|  440,696.14|1,322,088.40|\n",
      "|24-Aug-2020|     Cheque| 21,261.31|       00.00|  109,584.81|\n",
      "|25-Aug-2020|     Cheque|     00.00|       00.01|       00.06|\n",
      "|25-Aug-2020|     Cheque|     19.70|       00.00|       19.76|\n",
      "|26-Aug-2020|     Cheque|     00.00|  306,731.39|  613,462.77|\n",
      "|26-Aug-2020|     Cheque|  1,377.60|       00.00|2,476,290.70|\n",
      "|27-Aug-2020|     Cheque|     04.00|       00.00|       04.00|\n",
      "|29-Aug-2020|     Cheque|  1,980.76|       00.00|   30,545.36|\n",
      "|29-Aug-2020|     Cheque|     00.00|1,339,526.83|       00.00|\n",
      "|31-Aug-2020|     Cheque|     00.00|  221,321.39|  885,285.57|\n",
      "|31-Aug-2020|     Cheque|  2,267.40|       00.00|2,889,958.27|\n",
      "|01-Sep-2020|     Cheque|154,027.00|       00.00|1,138,339.33|\n",
      "|01-Sep-2020|     Cheque|     00.00|  249,310.54|  498,621.08|\n",
      "|02-Sep-2020|     Cheque|  2,025.80|       00.00|  132,094.79|\n",
      "|05-Sep-2020|     Cheque|     00.00|   32,241.92|  193,451.53|\n",
      "+-----------+-----------+----------+------------+------------+\n",
      "only showing top 20 rows\n",
      "\n"
     ]
    }
   ],
   "source": [
    "cheque_df.show()"
   ]
  },
  {
   "cell_type": "code",
   "execution_count": 26,
   "id": "b02143b3",
   "metadata": {},
   "outputs": [],
   "source": [
    "cheque_df = cheque_df.withColumn('id',lit('0'))"
   ]
  },
  {
   "cell_type": "code",
   "execution_count": 31,
   "id": "ece61e62",
   "metadata": {},
   "outputs": [],
   "source": [
    "df1 = cheque_df.select('Date','Deposits')"
   ]
  },
  {
   "cell_type": "code",
   "execution_count": 34,
   "id": "a76c4529",
   "metadata": {},
   "outputs": [
    {
     "name": "stdout",
     "output_type": "stream",
     "text": [
      "+-----------+--------+\n",
      "|       Date|Deposits|\n",
      "+-----------+--------+\n",
      "|20-Aug-2020|3,391.02|\n",
      "+-----------+--------+\n",
      "\n"
     ]
    }
   ],
   "source": [
    "df1.where(df1.Date == '20-Aug-2020').show()"
   ]
  },
  {
   "cell_type": "code",
   "execution_count": 35,
   "id": "bcaf6a8e",
   "metadata": {},
   "outputs": [
    {
     "name": "stdout",
     "output_type": "stream",
     "text": [
      "+-----------+--------+\n",
      "|       Date|Deposits|\n",
      "+-----------+--------+\n",
      "|20-Aug-2020|3,391.02|\n",
      "+-----------+--------+\n",
      "\n"
     ]
    }
   ],
   "source": [
    "cheque_df.select('Date','Deposits').where(df1.Date == '20-Aug-2020').show()"
   ]
  },
  {
   "cell_type": "code",
   "execution_count": 36,
   "id": "df3cc6bf",
   "metadata": {},
   "outputs": [
    {
     "name": "stdout",
     "output_type": "stream",
     "text": [
      "+-----------+-------------+------------+------------+------------+\n",
      "|       Date|  Description|    Deposits|  Withdrawls|     Balance|\n",
      "+-----------+-------------+------------+------------+------------+\n",
      "|20-Aug-2020|       Cheque|    3,391.02|       00.00|   83,839.30|\n",
      "|20-Aug-2020|          ATM|  147,844.20|       00.00|  231,683.50|\n",
      "|20-Aug-2020|         IMPS|   17,192.00|       00.00|  248,875.50|\n",
      "|21-Aug-2020|     Transfer|       08.00|       00.00|  248,883.50|\n",
      "|21-Aug-2020|     Purchase|       00.00|   82,961.17|  165,922.33|\n",
      "|21-Aug-2020|          Tax|   24,459.40|       00.00|  190,381.73|\n",
      "|21-Aug-2020|     Reversal|       00.00|   19,038.17|  171,343.56|\n",
      "|21-Aug-2020|   Commission|  305,878.00|       00.00|  477,221.56|\n",
      "|21-Aug-2020|     Reversal|1,144,337.80|       00.00|1,621,559.36|\n",
      "|21-Aug-2020|     Interest|       00.00|  405,389.84|1,216,169.52|\n",
      "|21-Aug-2020|   Commission|       33.08|       00.00|1,216,202.60|\n",
      "|21-Aug-2020|   Commission|   20,014.02|       00.00|1,236,216.62|\n",
      "|21-Aug-2020|          ATM|       00.00|1,236,216.62|       00.00|\n",
      "|22-Aug-2020|         Cash|    4,031.60|       00.00|    4,031.60|\n",
      "|22-Aug-2020|       Cheque|       04.90|       00.00|    4,036.50|\n",
      "|22-Aug-2020|Miscellaneous|      488.61|       00.00|    4,525.11|\n",
      "|22-Aug-2020|     Interest|  667,800.00|       00.00|  672,325.11|\n",
      "|22-Aug-2020|     Reversal|       00.00|  112,054.19|  560,270.93|\n",
      "|22-Aug-2020|     Purchase|  162,939.70|       00.00|  723,210.63|\n",
      "|22-Aug-2020|     Interest|      361.00|       00.00|  723,571.63|\n",
      "+-----------+-------------+------------+------------+------------+\n",
      "only showing top 20 rows\n",
      "\n"
     ]
    }
   ],
   "source": [
    "transaction_df.show()"
   ]
  },
  {
   "cell_type": "code",
   "execution_count": 37,
   "id": "55c7309c",
   "metadata": {},
   "outputs": [],
   "source": [
    "transaction_df = transaction_df.withColumn('Description',trim(transaction_df.Description))"
   ]
  },
  {
   "cell_type": "code",
   "execution_count": 38,
   "id": "a85a1103",
   "metadata": {},
   "outputs": [
    {
     "name": "stdout",
     "output_type": "stream",
     "text": [
      "+-----------+-------------+------------+------------+------------+\n",
      "|       Date|  Description|    Deposits|  Withdrawls|     Balance|\n",
      "+-----------+-------------+------------+------------+------------+\n",
      "|20-Aug-2020|       Cheque|    3,391.02|       00.00|   83,839.30|\n",
      "|20-Aug-2020|          ATM|  147,844.20|       00.00|  231,683.50|\n",
      "|20-Aug-2020|         IMPS|   17,192.00|       00.00|  248,875.50|\n",
      "|21-Aug-2020|     Transfer|       08.00|       00.00|  248,883.50|\n",
      "|21-Aug-2020|     Purchase|       00.00|   82,961.17|  165,922.33|\n",
      "|21-Aug-2020|          Tax|   24,459.40|       00.00|  190,381.73|\n",
      "|21-Aug-2020|     Reversal|       00.00|   19,038.17|  171,343.56|\n",
      "|21-Aug-2020|   Commission|  305,878.00|       00.00|  477,221.56|\n",
      "|21-Aug-2020|     Reversal|1,144,337.80|       00.00|1,621,559.36|\n",
      "|21-Aug-2020|     Interest|       00.00|  405,389.84|1,216,169.52|\n",
      "|21-Aug-2020|   Commission|       33.08|       00.00|1,216,202.60|\n",
      "|21-Aug-2020|   Commission|   20,014.02|       00.00|1,236,216.62|\n",
      "|21-Aug-2020|          ATM|       00.00|1,236,216.62|       00.00|\n",
      "|22-Aug-2020|         Cash|    4,031.60|       00.00|    4,031.60|\n",
      "|22-Aug-2020|       Cheque|       04.90|       00.00|    4,036.50|\n",
      "|22-Aug-2020|Miscellaneous|      488.61|       00.00|    4,525.11|\n",
      "|22-Aug-2020|     Interest|  667,800.00|       00.00|  672,325.11|\n",
      "|22-Aug-2020|     Reversal|       00.00|  112,054.19|  560,270.93|\n",
      "|22-Aug-2020|     Purchase|  162,939.70|       00.00|  723,210.63|\n",
      "|22-Aug-2020|     Interest|      361.00|       00.00|  723,571.63|\n",
      "+-----------+-------------+------------+------------+------------+\n",
      "only showing top 20 rows\n",
      "\n"
     ]
    }
   ],
   "source": [
    "transaction_df.show()"
   ]
  },
  {
   "cell_type": "code",
   "execution_count": 39,
   "id": "6261204f",
   "metadata": {},
   "outputs": [
    {
     "name": "stdout",
     "output_type": "stream",
     "text": [
      "hello\n"
     ]
    }
   ],
   "source": [
    "print(\"hello\")"
   ]
  },
  {
   "cell_type": "code",
   "execution_count": 50,
   "id": "29c05856",
   "metadata": {},
   "outputs": [
    {
     "name": "stdout",
     "output_type": "stream",
     "text": [
      "Help on method dropDuplicates in module pyspark.sql.dataframe:\n",
      "\n",
      "dropDuplicates(subset=None) method of pyspark.sql.dataframe.DataFrame instance\n",
      "    Return a new :class:`DataFrame` with duplicate rows removed,\n",
      "    optionally only considering certain columns.\n",
      "    \n",
      "    For a static batch :class:`DataFrame`, it just drops duplicate rows. For a streaming\n",
      "    :class:`DataFrame`, it will keep all data across triggers as intermediate state to drop\n",
      "    duplicates rows. You can use :func:`withWatermark` to limit how late the duplicate data can\n",
      "    be and system will accordingly limit the state. In addition, too late data older than\n",
      "    watermark will be dropped to avoid any possibility of duplicates.\n",
      "    \n",
      "    :func:`drop_duplicates` is an alias for :func:`dropDuplicates`.\n",
      "    \n",
      "    .. versionadded:: 1.4.0\n",
      "    \n",
      "    Examples\n",
      "    --------\n",
      "    >>> from pyspark.sql import Row\n",
      "    >>> df = sc.parallelize([ \\\n",
      "    ...     Row(name='Alice', age=5, height=80), \\\n",
      "    ...     Row(name='Alice', age=5, height=80), \\\n",
      "    ...     Row(name='Alice', age=10, height=80)]).toDF()\n",
      "    >>> df.dropDuplicates().show()\n",
      "    +-----+---+------+\n",
      "    | name|age|height|\n",
      "    +-----+---+------+\n",
      "    |Alice|  5|    80|\n",
      "    |Alice| 10|    80|\n",
      "    +-----+---+------+\n",
      "    \n",
      "    >>> df.dropDuplicates(['name', 'height']).show()\n",
      "    +-----+---+------+\n",
      "    | name|age|height|\n",
      "    +-----+---+------+\n",
      "    |Alice|  5|    80|\n",
      "    +-----+---+------+\n",
      "\n"
     ]
    }
   ],
   "source": [
    "help(transaction_df.dropDuplicates)"
   ]
  },
  {
   "cell_type": "code",
   "execution_count": 56,
   "id": "86289a23",
   "metadata": {},
   "outputs": [],
   "source": [
    "transaction_df1 = transaction_df\n"
   ]
  },
  {
   "cell_type": "code",
   "execution_count": 58,
   "id": "6faace6b",
   "metadata": {},
   "outputs": [
    {
     "data": {
      "text/plain": [
       "441"
      ]
     },
     "execution_count": 58,
     "metadata": {},
     "output_type": "execute_result"
    }
   ],
   "source": [
    "transaction_df1.dropDuplicates(['Withdrawls']).count()"
   ]
  },
  {
   "cell_type": "code",
   "execution_count": null,
   "id": "4ee830f6",
   "metadata": {},
   "outputs": [],
   "source": []
  }
 ],
 "metadata": {
  "kernelspec": {
   "display_name": "Python 3 (ipykernel)",
   "language": "python",
   "name": "python3"
  },
  "language_info": {
   "codemirror_mode": {
    "name": "ipython",
    "version": 3
   },
   "file_extension": ".py",
   "mimetype": "text/x-python",
   "name": "python",
   "nbconvert_exporter": "python",
   "pygments_lexer": "ipython3",
   "version": "3.8.2"
  }
 },
 "nbformat": 4,
 "nbformat_minor": 5
}
