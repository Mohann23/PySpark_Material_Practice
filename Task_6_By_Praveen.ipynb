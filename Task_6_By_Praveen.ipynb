{
  "nbformat": 4,
  "nbformat_minor": 0,
  "metadata": {
    "colab": {
      "name": "Task_6_By_Praveen.ipynb",
      "provenance": [],
      "collapsed_sections": [],
      "authorship_tag": "ABX9TyOKnHwWg+PK1YsNILzytwwP",
      "include_colab_link": true
    },
    "kernelspec": {
      "name": "python3",
      "display_name": "Python 3"
    },
    "language_info": {
      "name": "python"
    }
  },
  "cells": [
    {
      "cell_type": "markdown",
      "metadata": {
        "id": "view-in-github",
        "colab_type": "text"
      },
      "source": [
        "<a href=\"https://colab.research.google.com/github/Mohann23/PySpark_Material_Practice/blob/master/Task_6_By_Praveen.ipynb\" target=\"_parent\"><img src=\"https://colab.research.google.com/assets/colab-badge.svg\" alt=\"Open In Colab\"/></a>"
      ]
    },
    {
      "cell_type": "code",
      "execution_count": 1,
      "metadata": {
        "colab": {
          "base_uri": "https://localhost:8080/"
        },
        "id": "KB1IOLSduu4C",
        "outputId": "3481f4e2-6914-4d3b-e4d1-2d192d584442"
      },
      "outputs": [
        {
          "output_type": "stream",
          "name": "stdout",
          "text": [
            "Mounted at /content/drive\n"
          ]
        }
      ],
      "source": [
        "from google.colab import drive\n",
        "drive.mount('/content/drive')\n",
        "\n",
        "!apt-get install openjdk-8-jdk-headless -qq > /dev/null\n",
        "\n",
        "\n",
        "!wget -q https://dlcdn.apache.org/spark/spark-3.2.1/spark-3.2.1-bin-hadoop3.2.tgz\n",
        "\n",
        "\n",
        "\n",
        "!tar xf spark-3.2.1-bin-hadoop3.2.tgz\n",
        "\n",
        "!pip install -q findspark\n",
        "\n",
        "import os\n",
        "os.environ[\"JAVA_HOME\"] = \"/usr/lib/jvm/java-8-openjdk-amd64\"\n",
        "os.environ[\"SPARK_HOME\"] = \"/content/spark-3.2.1-bin-hadoop3.2\"\n",
        "\n",
        "import findspark\n",
        "findspark.init()\n",
        "\n",
        "findspark.find()\n",
        "from pyspark.sql import *\n",
        "from pyspark.sql.functions import *\n",
        "from pyspark.sql.types import *"
      ]
    },
    {
      "cell_type": "code",
      "source": [
        "spark = SparkSession.builder.appName('Task_6').getOrCreate()"
      ],
      "metadata": {
        "id": "-s9C05WCu-aR"
      },
      "execution_count": 2,
      "outputs": []
    },
    {
      "cell_type": "code",
      "source": [
        "user_log_df = spark.read.csv('/content/drive/MyDrive/PYSpark_Files/user_login_history_Task_6.csv',inferSchema=True,header=True)"
      ],
      "metadata": {
        "id": "M51jv8NfvOXl"
      },
      "execution_count": 3,
      "outputs": []
    },
    {
      "cell_type": "code",
      "source": [
        "user_log_df.show(5)"
      ],
      "metadata": {
        "colab": {
          "base_uri": "https://localhost:8080/"
        },
        "id": "j-CaJ_Pzvjhp",
        "outputId": "101aa8ea-5af1-47da-c388-5201872391f5"
      },
      "execution_count": 4,
      "outputs": [
        {
          "output_type": "stream",
          "name": "stdout",
          "text": [
            "+---+------+----------+\n",
            "| id|userid|login_date|\n",
            "+---+------+----------+\n",
            "|  1|     1|01-01-2019|\n",
            "|  2|     2|02-01-2019|\n",
            "|  3|     3|03-01-2019|\n",
            "|  4|     4|04-01-2019|\n",
            "|  5|     5|05-01-2019|\n",
            "+---+------+----------+\n",
            "only showing top 5 rows\n",
            "\n"
          ]
        }
      ]
    },
    {
      "cell_type": "code",
      "source": [
        "user_log_df = user_log_df.dropna()"
      ],
      "metadata": {
        "id": "e6rvqwYF06B9"
      },
      "execution_count": 5,
      "outputs": []
    },
    {
      "cell_type": "code",
      "source": [
        ""
      ],
      "metadata": {
        "id": "B9ktO8vjnntA"
      },
      "execution_count": null,
      "outputs": []
    },
    {
      "cell_type": "markdown",
      "source": [
        "Current Year"
      ],
      "metadata": {
        "id": "pnCCBRqlnV_O"
      }
    },
    {
      "cell_type": "code",
      "source": [
        "#Current_year\n",
        "from datetime import datetime\n",
        "\n",
        "def try_parsing_date(text):\n",
        "    for fmt in ('%Y-%m-%d', '%d.%m.%Y', '%d/%m/%Y','%d-%m-%Y','%dd-%mm-%yyyy'):\n",
        "        try:\n",
        "            date_object = datetime.strptime(text, fmt)\n",
        "            converted_date_object = date_object.strftime('%Y')\n",
        "            return converted_date_object\n",
        "\n",
        "        except ValueError:\n",
        "            pass\n",
        "    return 'ERROR_DATE'\n"
      ],
      "metadata": {
        "id": "JqBi_Y2Tvo68"
      },
      "execution_count": 20,
      "outputs": []
    },
    {
      "cell_type": "code",
      "source": [
        "date_udf = udf(lambda x : try_parsing_date(x))"
      ],
      "metadata": {
        "id": "kgMnDhKRw2OP"
      },
      "execution_count": 14,
      "outputs": []
    },
    {
      "cell_type": "code",
      "source": [
        "year_convert = user_log_df.withColumn('current_year',date_udf(col('login_date')))"
      ],
      "metadata": {
        "id": "qFH4AkyUyfz0"
      },
      "execution_count": 15,
      "outputs": []
    },
    {
      "cell_type": "code",
      "source": [
        "year_convert.show()"
      ],
      "metadata": {
        "id": "PxJJbOcbz1lM",
        "colab": {
          "base_uri": "https://localhost:8080/"
        },
        "outputId": "54be1880-b0ff-4d84-94bb-9bae38b2f869"
      },
      "execution_count": 16,
      "outputs": [
        {
          "output_type": "stream",
          "name": "stdout",
          "text": [
            "+---+------+----------+------------+\n",
            "| id|userid|login_date|current_year|\n",
            "+---+------+----------+------------+\n",
            "|  1|     1|01-01-2019|        2019|\n",
            "|  2|     2|02-01-2019|        2019|\n",
            "|  3|     3|03-01-2019|        2019|\n",
            "|  4|     4|04-01-2019|        2019|\n",
            "|  5|     5|05-01-2019|        2019|\n",
            "|  6|     6|06-01-2019|        2019|\n",
            "|  7|     7|07-01-2019|        2019|\n",
            "|  8|     8|08-01-2019|        2019|\n",
            "|  9|    68|08-01-2019|        2019|\n",
            "| 10|     9|09-01-2019|        2019|\n",
            "| 11|    10|10-01-2019|        2019|\n",
            "| 12|     1|01-02-2019|        2019|\n",
            "| 13|     2|02-02-2019|        2019|\n",
            "| 14|     3|03-02-2019|        2019|\n",
            "| 15|     4|04-02-2019|        2019|\n",
            "| 16|     5|05-02-2019|        2019|\n",
            "| 17|     6|06-02-2019|        2019|\n",
            "| 18|     7|07-02-2019|        2019|\n",
            "| 19|     8|08-02-2019|        2019|\n",
            "| 20|     9|09-02-2019|        2019|\n",
            "+---+------+----------+------------+\n",
            "only showing top 20 rows\n",
            "\n"
          ]
        }
      ]
    },
    {
      "cell_type": "code",
      "source": [
        "current_year = year_convert.groupBy('userid').agg(count(col('current_year')))"
      ],
      "metadata": {
        "id": "E4Euyv_Si81f"
      },
      "execution_count": 18,
      "outputs": []
    },
    {
      "cell_type": "code",
      "source": [
        "current_year.show()"
      ],
      "metadata": {
        "colab": {
          "base_uri": "https://localhost:8080/"
        },
        "id": "tOOGj_z0jbxF",
        "outputId": "12ad4bd3-710d-4232-f6b4-397ff9fbb17c"
      },
      "execution_count": 19,
      "outputs": [
        {
          "output_type": "stream",
          "name": "stdout",
          "text": [
            "+------+-------------------+\n",
            "|userid|count(current_year)|\n",
            "+------+-------------------+\n",
            "|    31|                 14|\n",
            "|    34|                 14|\n",
            "|    28|                 14|\n",
            "|    26|                 14|\n",
            "|    27|                 14|\n",
            "|    44|                 14|\n",
            "|    12|                 18|\n",
            "|    22|                 14|\n",
            "|    47|                 14|\n",
            "|     1|                 21|\n",
            "|    13|                 18|\n",
            "|     6|                 21|\n",
            "|    16|                 18|\n",
            "|     3|                 21|\n",
            "|    20|                 14|\n",
            "|    40|                 14|\n",
            "|    48|                 14|\n",
            "|     5|                 21|\n",
            "|    19|                 17|\n",
            "|    41|                 14|\n",
            "+------+-------------------+\n",
            "only showing top 20 rows\n",
            "\n"
          ]
        }
      ]
    },
    {
      "cell_type": "markdown",
      "source": [
        "Previous Year"
      ],
      "metadata": {
        "id": "IdEzN-3unTUx"
      }
    },
    {
      "cell_type": "code",
      "source": [
        "#Previous Year\n",
        "from datetime import datetime\n",
        "from dateutil.relativedelta import relativedelta\n",
        "\n",
        "def try_parsing_date_py(text):\n",
        "    for fmt in ('%Y-%m-%d', '%d.%m.%Y', '%d/%m/%Y','%d-%m-%Y','%dd-%mm-%yyyy'):\n",
        "        try:\n",
        "            date_object = datetime.strptime(text, fmt)\n",
        "            last_year = (date_object -relativedelta(years=1))\n",
        "            converted_date_object = last_year.strftime('%Y')\n",
        "            \n",
        "            return last_year\n",
        "\n",
        "        except ValueError:\n",
        "            pass\n",
        "    return 'ERROR_DATE'"
      ],
      "metadata": {
        "id": "HOMqe9u-ju5e"
      },
      "execution_count": 46,
      "outputs": []
    },
    {
      "cell_type": "code",
      "source": [
        "date_udf = udf(lambda x : try_parsing_date_py(x))"
      ],
      "metadata": {
        "id": "CBr9uaSbmYVY"
      },
      "execution_count": 47,
      "outputs": []
    },
    {
      "cell_type": "code",
      "source": [
        "previous_year_convert = user_log_df.withColumn('Previous_year',date_udf(col('login_date')))"
      ],
      "metadata": {
        "id": "SfQGUtCumi-P"
      },
      "execution_count": 48,
      "outputs": []
    },
    {
      "cell_type": "code",
      "source": [
        "previous_year = previous_year_convert.groupBy('userid').agg(count(col('Previous_year')))"
      ],
      "metadata": {
        "id": "fOVpseB9nHL8"
      },
      "execution_count": 50,
      "outputs": []
    },
    {
      "cell_type": "code",
      "source": [
        "previous_year.show()"
      ],
      "metadata": {
        "colab": {
          "base_uri": "https://localhost:8080/"
        },
        "id": "7jq9tnqKmiyo",
        "outputId": "f5fec3d5-1aae-49f3-bbdc-733f5a60c77e"
      },
      "execution_count": 51,
      "outputs": [
        {
          "output_type": "stream",
          "name": "stdout",
          "text": [
            "+------+--------------------+\n",
            "|userid|count(Previous_year)|\n",
            "+------+--------------------+\n",
            "|    31|                  14|\n",
            "|    34|                  14|\n",
            "|    28|                  14|\n",
            "|    26|                  14|\n",
            "|    27|                  14|\n",
            "|    44|                  14|\n",
            "|    12|                  18|\n",
            "|    22|                  14|\n",
            "|    47|                  14|\n",
            "|     1|                  21|\n",
            "|    13|                  18|\n",
            "|     6|                  21|\n",
            "|    16|                  18|\n",
            "|     3|                  21|\n",
            "|    20|                  14|\n",
            "|    40|                  14|\n",
            "|    48|                  14|\n",
            "|     5|                  21|\n",
            "|    19|                  17|\n",
            "|    41|                  14|\n",
            "+------+--------------------+\n",
            "only showing top 20 rows\n",
            "\n"
          ]
        }
      ]
    },
    {
      "cell_type": "code",
      "source": [
        "try_parsing_date('08-01-2019')"
      ],
      "metadata": {
        "colab": {
          "base_uri": "https://localhost:8080/"
        },
        "id": "hQR4WZO8kPDj",
        "outputId": "da0bbee6-43cb-4fa7-ce51-647d806fd9fa"
      },
      "execution_count": 39,
      "outputs": [
        {
          "output_type": "execute_result",
          "data": {
            "text/plain": [
              "datetime.datetime(2018, 1, 8, 0, 0)"
            ]
          },
          "metadata": {},
          "execution_count": 39
        }
      ]
    },
    {
      "cell_type": "markdown",
      "source": [
        "Current month"
      ],
      "metadata": {
        "id": "Zw3BhMlYnsv8"
      }
    },
    {
      "cell_type": "code",
      "source": [
        "from datetime import datetime\n",
        "\n",
        "def try_parsing_date(text):\n",
        "    for fmt in ('%Y-%m-%d', '%d.%m.%Y', '%d/%m/%Y','%d-%m-%Y','%dd-%mm-%yyyy'):\n",
        "        try:\n",
        "            date_object = datetime.strptime(text, fmt)\n",
        "            converted_date_object = date_object.strftime('%m')\n",
        "            return converted_date_object\n",
        "\n",
        "        except ValueError:\n",
        "            pass\n",
        "    return 'ERROR_DATE'"
      ],
      "metadata": {
        "id": "bn0pJ49N2lKO"
      },
      "execution_count": 52,
      "outputs": []
    },
    {
      "cell_type": "code",
      "source": [
        "date_udf = udf(lambda x : try_parsing_date(x))"
      ],
      "metadata": {
        "id": "a7vKGDF22rrY"
      },
      "execution_count": 53,
      "outputs": []
    },
    {
      "cell_type": "code",
      "source": [
        "current_month= user_log_df.withColumn('current_month',date_udf(col('login_date')))"
      ],
      "metadata": {
        "id": "lM_7hLAh2wPH"
      },
      "execution_count": 60,
      "outputs": []
    },
    {
      "cell_type": "code",
      "source": [
        "current_month.show()"
      ],
      "metadata": {
        "colab": {
          "base_uri": "https://localhost:8080/"
        },
        "id": "pPAzIRZz3Ajd",
        "outputId": "4e893240-26ba-48f3-bf0b-05b5c5a0882d"
      },
      "execution_count": 61,
      "outputs": [
        {
          "output_type": "stream",
          "name": "stdout",
          "text": [
            "+---+------+----------+-------------+\n",
            "| id|userid|login_date|current_month|\n",
            "+---+------+----------+-------------+\n",
            "|  1|     1|01-01-2019|           01|\n",
            "|  2|     2|02-01-2019|           01|\n",
            "|  3|     3|03-01-2019|           01|\n",
            "|  4|     4|04-01-2019|           01|\n",
            "|  5|     5|05-01-2019|           01|\n",
            "|  6|     6|06-01-2019|           01|\n",
            "|  7|     7|07-01-2019|           01|\n",
            "|  8|     8|08-01-2019|           01|\n",
            "|  9|    68|08-01-2019|           01|\n",
            "| 10|     9|09-01-2019|           01|\n",
            "| 11|    10|10-01-2019|           01|\n",
            "| 12|     1|01-02-2019|           02|\n",
            "| 13|     2|02-02-2019|           02|\n",
            "| 14|     3|03-02-2019|           02|\n",
            "| 15|     4|04-02-2019|           02|\n",
            "| 16|     5|05-02-2019|           02|\n",
            "| 17|     6|06-02-2019|           02|\n",
            "| 18|     7|07-02-2019|           02|\n",
            "| 19|     8|08-02-2019|           02|\n",
            "| 20|     9|09-02-2019|           02|\n",
            "+---+------+----------+-------------+\n",
            "only showing top 20 rows\n",
            "\n"
          ]
        }
      ]
    },
    {
      "cell_type": "code",
      "source": [
        "current_Month = current_month.groupBy('userid').agg(count(col('Current_month')))"
      ],
      "metadata": {
        "id": "5HQVHgkvnpvM"
      },
      "execution_count": 63,
      "outputs": []
    },
    {
      "cell_type": "code",
      "source": [
        "current_Month.show()"
      ],
      "metadata": {
        "colab": {
          "base_uri": "https://localhost:8080/"
        },
        "id": "gRMsTRq5oK2-",
        "outputId": "5326d158-6194-48cf-c72b-72cc5919ab99"
      },
      "execution_count": 64,
      "outputs": [
        {
          "output_type": "stream",
          "name": "stdout",
          "text": [
            "+------+--------------------+\n",
            "|userid|count(Current_month)|\n",
            "+------+--------------------+\n",
            "|    31|                  14|\n",
            "|    34|                  14|\n",
            "|    28|                  14|\n",
            "|    26|                  14|\n",
            "|    27|                  14|\n",
            "|    44|                  14|\n",
            "|    12|                  18|\n",
            "|    22|                  14|\n",
            "|    47|                  14|\n",
            "|     1|                  21|\n",
            "|    13|                  18|\n",
            "|     6|                  21|\n",
            "|    16|                  18|\n",
            "|     3|                  21|\n",
            "|    20|                  14|\n",
            "|    40|                  14|\n",
            "|    48|                  14|\n",
            "|     5|                  21|\n",
            "|    19|                  17|\n",
            "|    41|                  14|\n",
            "+------+--------------------+\n",
            "only showing top 20 rows\n",
            "\n"
          ]
        }
      ]
    },
    {
      "cell_type": "markdown",
      "source": [
        "Previous month"
      ],
      "metadata": {
        "id": "U7romMJAo4_o"
      }
    },
    {
      "cell_type": "code",
      "source": [
        "from datetime import datetime\n",
        "from dateutil.relativedelta import relativedelta\n",
        "\n",
        "def try_parsing_date_cm(text):\n",
        "    for fmt in ('%Y-%m-%d', '%d.%m.%Y', '%d/%m/%Y','%d-%m-%Y','%dd-%mm-%yyyy'):\n",
        "        try:\n",
        "            date_object = datetime.strptime(text, fmt)\n",
        "            last_month = date_object - relativedelta(months=1)\n",
        "            converted_date_object = last_month.strftime('%m')\n",
        "            return converted_date_object\n",
        "\n",
        "        except ValueError:\n",
        "            pass\n",
        "    return 'ERROR_DATE'"
      ],
      "metadata": {
        "id": "EVa_Er5QoQKi"
      },
      "execution_count": 71,
      "outputs": []
    },
    {
      "cell_type": "code",
      "source": [
        "date_udf = udf(lambda x : try_parsing_date_cm(x))"
      ],
      "metadata": {
        "id": "JJdllS5Joo8y"
      },
      "execution_count": 73,
      "outputs": []
    },
    {
      "cell_type": "code",
      "source": [
        "previous_month= user_log_df.withColumn('Previous_month',date_udf(col('login_date')))"
      ],
      "metadata": {
        "id": "l6piO_o4pDad"
      },
      "execution_count": 74,
      "outputs": []
    },
    {
      "cell_type": "code",
      "source": [
        "previous_month.show()"
      ],
      "metadata": {
        "colab": {
          "base_uri": "https://localhost:8080/"
        },
        "id": "TLhDm1RJpLpn",
        "outputId": "01cbd801-05ce-4096-adc2-72d2dbd1da1e"
      },
      "execution_count": 75,
      "outputs": [
        {
          "output_type": "stream",
          "name": "stdout",
          "text": [
            "+---+------+----------+--------------+\n",
            "| id|userid|login_date|Previous_month|\n",
            "+---+------+----------+--------------+\n",
            "|  1|     1|01-01-2019|            12|\n",
            "|  2|     2|02-01-2019|            12|\n",
            "|  3|     3|03-01-2019|            12|\n",
            "|  4|     4|04-01-2019|            12|\n",
            "|  5|     5|05-01-2019|            12|\n",
            "|  6|     6|06-01-2019|            12|\n",
            "|  7|     7|07-01-2019|            12|\n",
            "|  8|     8|08-01-2019|            12|\n",
            "|  9|    68|08-01-2019|            12|\n",
            "| 10|     9|09-01-2019|            12|\n",
            "| 11|    10|10-01-2019|            12|\n",
            "| 12|     1|01-02-2019|            01|\n",
            "| 13|     2|02-02-2019|            01|\n",
            "| 14|     3|03-02-2019|            01|\n",
            "| 15|     4|04-02-2019|            01|\n",
            "| 16|     5|05-02-2019|            01|\n",
            "| 17|     6|06-02-2019|            01|\n",
            "| 18|     7|07-02-2019|            01|\n",
            "| 19|     8|08-02-2019|            01|\n",
            "| 20|     9|09-02-2019|            01|\n",
            "+---+------+----------+--------------+\n",
            "only showing top 20 rows\n",
            "\n"
          ]
        }
      ]
    },
    {
      "cell_type": "code",
      "source": [
        "previous_Month = previous_month.groupBy('userid').agg(count(col('Previous_month')))"
      ],
      "metadata": {
        "id": "OTwhKmB_pLP4"
      },
      "execution_count": 76,
      "outputs": []
    },
    {
      "cell_type": "code",
      "source": [
        "previous_Month.show()"
      ],
      "metadata": {
        "colab": {
          "base_uri": "https://localhost:8080/"
        },
        "id": "BGaoIuR-pYLK",
        "outputId": "faca7a1e-a27a-41b8-9d7f-8debadea16f8"
      },
      "execution_count": 77,
      "outputs": [
        {
          "output_type": "stream",
          "name": "stdout",
          "text": [
            "+------+---------------------+\n",
            "|userid|count(Previous_month)|\n",
            "+------+---------------------+\n",
            "|    31|                   14|\n",
            "|    34|                   14|\n",
            "|    28|                   14|\n",
            "|    26|                   14|\n",
            "|    27|                   14|\n",
            "|    44|                   14|\n",
            "|    12|                   18|\n",
            "|    22|                   14|\n",
            "|    47|                   14|\n",
            "|     1|                   21|\n",
            "|    13|                   18|\n",
            "|     6|                   21|\n",
            "|    16|                   18|\n",
            "|     3|                   21|\n",
            "|    20|                   14|\n",
            "|    40|                   14|\n",
            "|    48|                   14|\n",
            "|     5|                   21|\n",
            "|    19|                   17|\n",
            "|    41|                   14|\n",
            "+------+---------------------+\n",
            "only showing top 20 rows\n",
            "\n"
          ]
        }
      ]
    },
    {
      "cell_type": "markdown",
      "source": [
        "Current week"
      ],
      "metadata": {
        "id": "pNZZAaMupitB"
      }
    },
    {
      "cell_type": "code",
      "source": [
        "\n",
        "from datetime import *\n",
        "\n",
        "def check_week(str1):\n",
        "  current_date = datetime.strptime(str1,'%d-%m-%Y')     #checking that the date format\n",
        "  current_date = current_date.date()    #using this line we are changing the date format without hrs and minutes format\n",
        "  today_date = date.today()    #Present date \n",
        "  week_start_date = today_date - timedelta(days=today_date.weekday())     #Start date of the week\n",
        "  week_end_date = week_start_date +timedelta(days=6)     #End date of the week\n",
        "  \n",
        "  if week_start_date <= current_date <= week_end_date:\n",
        "    return 't'\n",
        "  else:\n",
        "    return 'f'"
      ],
      "metadata": {
        "id": "JH-1zga3pZIo"
      },
      "execution_count": 78,
      "outputs": []
    },
    {
      "cell_type": "code",
      "source": [
        "current_week_udf = udf(lambda x:check_week(x))"
      ],
      "metadata": {
        "id": "9PYRJILRpm3a"
      },
      "execution_count": 79,
      "outputs": []
    },
    {
      "cell_type": "code",
      "source": [
        "current_week= user_log_df.withColumn('current_week',current_week_udf('login_date'))"
      ],
      "metadata": {
        "id": "IL6AwMpfpnkB"
      },
      "execution_count": 80,
      "outputs": []
    },
    {
      "cell_type": "code",
      "source": [
        "current_week.show()"
      ],
      "metadata": {
        "colab": {
          "base_uri": "https://localhost:8080/"
        },
        "id": "dzU1KMB0ppkY",
        "outputId": "1286fdc3-b2a7-4077-ae2c-4a888c76ce27"
      },
      "execution_count": 81,
      "outputs": [
        {
          "output_type": "stream",
          "name": "stdout",
          "text": [
            "+---+------+----------+------------+\n",
            "| id|userid|login_date|current_week|\n",
            "+---+------+----------+------------+\n",
            "|  1|     1|01-01-2019|           f|\n",
            "|  2|     2|02-01-2019|           f|\n",
            "|  3|     3|03-01-2019|           f|\n",
            "|  4|     4|04-01-2019|           f|\n",
            "|  5|     5|05-01-2019|           f|\n",
            "|  6|     6|06-01-2019|           f|\n",
            "|  7|     7|07-01-2019|           f|\n",
            "|  8|     8|08-01-2019|           f|\n",
            "|  9|    68|08-01-2019|           f|\n",
            "| 10|     9|09-01-2019|           f|\n",
            "| 11|    10|10-01-2019|           f|\n",
            "| 12|     1|01-02-2019|           f|\n",
            "| 13|     2|02-02-2019|           f|\n",
            "| 14|     3|03-02-2019|           f|\n",
            "| 15|     4|04-02-2019|           f|\n",
            "| 16|     5|05-02-2019|           f|\n",
            "| 17|     6|06-02-2019|           f|\n",
            "| 18|     7|07-02-2019|           f|\n",
            "| 19|     8|08-02-2019|           f|\n",
            "| 20|     9|09-02-2019|           f|\n",
            "+---+------+----------+------------+\n",
            "only showing top 20 rows\n",
            "\n"
          ]
        }
      ]
    },
    {
      "cell_type": "code",
      "source": [
        "current_week_after_grouping = current_week.filter(col('current_week')=='f').groupBy('userid').agg(count(col('current_week')))"
      ],
      "metadata": {
        "id": "EDTqc-PZp4zh"
      },
      "execution_count": 83,
      "outputs": []
    },
    {
      "cell_type": "code",
      "source": [
        "current_week_after_grouping.show()"
      ],
      "metadata": {
        "colab": {
          "base_uri": "https://localhost:8080/"
        },
        "id": "qf4iHle2p4tv",
        "outputId": "70775626-acf5-41fd-a6cd-e732a5a25031"
      },
      "execution_count": 84,
      "outputs": [
        {
          "output_type": "stream",
          "name": "stdout",
          "text": [
            "+------+-------------------+\n",
            "|userid|count(current_week)|\n",
            "+------+-------------------+\n",
            "|    31|                 14|\n",
            "|    34|                 14|\n",
            "|    28|                 14|\n",
            "|    26|                 14|\n",
            "|    27|                 14|\n",
            "|    44|                 14|\n",
            "|    12|                 18|\n",
            "|    22|                 14|\n",
            "|    47|                 14|\n",
            "|     1|                 21|\n",
            "|    13|                 18|\n",
            "|     6|                 21|\n",
            "|    16|                 17|\n",
            "|     3|                 21|\n",
            "|    20|                 14|\n",
            "|    40|                 14|\n",
            "|    48|                 14|\n",
            "|     5|                 21|\n",
            "|    19|                 17|\n",
            "|    41|                 14|\n",
            "+------+-------------------+\n",
            "only showing top 20 rows\n",
            "\n"
          ]
        }
      ]
    },
    {
      "cell_type": "markdown",
      "source": [
        "Previous year"
      ],
      "metadata": {
        "id": "uRoz_NYKqjzy"
      }
    },
    {
      "cell_type": "code",
      "source": [
        "from datetime import *\n",
        "def check_week_previous(str1):\n",
        "  current_date = datetime.strptime(str1,'%d-%m-%Y')     #checking that the date format\n",
        "  current_date = current_date.date()    #using this line we are changing the date format without hrs and minutes format\n",
        "  today_date = date.today()    #Present date \n",
        "  week_start_date = today_date - timedelta(days=today_date.weekday())     #Start date of the week\n",
        "  week_end_date = week_start_date +timedelta(days=6)     #End date of the week\n",
        "  previous_week_start = week_start_date - timedelta(days=7)  #Start of previous week\n",
        "  previous_week_end = previous_week_start + timedelta(days=6)    #end of previous week\n",
        "  if previous_week_start <= week_start_date <=previous_week_end:\n",
        "    return 't'\n",
        "  else:\n",
        "    return 'f'"
      ],
      "metadata": {
        "id": "h-7OZY6sp4ol"
      },
      "execution_count": 85,
      "outputs": []
    },
    {
      "cell_type": "code",
      "source": [
        "previous_week_udf = udf(lambda x:check_week_previous(x))"
      ],
      "metadata": {
        "id": "YVO7o7faqIMh"
      },
      "execution_count": 86,
      "outputs": []
    },
    {
      "cell_type": "code",
      "source": [
        "previous_week = user_log_df.withColumn('Previous_week',current_week_udf('login_date'))"
      ],
      "metadata": {
        "id": "6KI5j_AgqIJk"
      },
      "execution_count": 87,
      "outputs": []
    },
    {
      "cell_type": "code",
      "source": [
        "previous_week.show()"
      ],
      "metadata": {
        "colab": {
          "base_uri": "https://localhost:8080/"
        },
        "id": "pp7HNTeoqIGb",
        "outputId": "d20f09b2-940b-4d61-ed95-b7ed47a26ad8"
      },
      "execution_count": 88,
      "outputs": [
        {
          "output_type": "stream",
          "name": "stdout",
          "text": [
            "+---+------+----------+-------------+\n",
            "| id|userid|login_date|Previous_week|\n",
            "+---+------+----------+-------------+\n",
            "|  1|     1|01-01-2019|            f|\n",
            "|  2|     2|02-01-2019|            f|\n",
            "|  3|     3|03-01-2019|            f|\n",
            "|  4|     4|04-01-2019|            f|\n",
            "|  5|     5|05-01-2019|            f|\n",
            "|  6|     6|06-01-2019|            f|\n",
            "|  7|     7|07-01-2019|            f|\n",
            "|  8|     8|08-01-2019|            f|\n",
            "|  9|    68|08-01-2019|            f|\n",
            "| 10|     9|09-01-2019|            f|\n",
            "| 11|    10|10-01-2019|            f|\n",
            "| 12|     1|01-02-2019|            f|\n",
            "| 13|     2|02-02-2019|            f|\n",
            "| 14|     3|03-02-2019|            f|\n",
            "| 15|     4|04-02-2019|            f|\n",
            "| 16|     5|05-02-2019|            f|\n",
            "| 17|     6|06-02-2019|            f|\n",
            "| 18|     7|07-02-2019|            f|\n",
            "| 19|     8|08-02-2019|            f|\n",
            "| 20|     9|09-02-2019|            f|\n",
            "+---+------+----------+-------------+\n",
            "only showing top 20 rows\n",
            "\n"
          ]
        }
      ]
    },
    {
      "cell_type": "code",
      "source": [
        "previous_week_after_grouping = previous_week.filter(col('Previous_week')=='f').groupBy('userid').agg(count(col('Previous_week'))) "
      ],
      "metadata": {
        "id": "gjChgbxZqIDi"
      },
      "execution_count": 89,
      "outputs": []
    },
    {
      "cell_type": "code",
      "source": [
        "previous_week_after_grouping.show()"
      ],
      "metadata": {
        "colab": {
          "base_uri": "https://localhost:8080/"
        },
        "id": "7i5AY6NzqIAQ",
        "outputId": "bd62903d-d6ce-4b62-b5f6-101b019a1b1e"
      },
      "execution_count": 90,
      "outputs": [
        {
          "output_type": "stream",
          "name": "stdout",
          "text": [
            "+------+--------------------+\n",
            "|userid|count(Previous_week)|\n",
            "+------+--------------------+\n",
            "|    31|                  14|\n",
            "|    34|                  14|\n",
            "|    28|                  14|\n",
            "|    26|                  14|\n",
            "|    27|                  14|\n",
            "|    44|                  14|\n",
            "|    12|                  18|\n",
            "|    22|                  14|\n",
            "|    47|                  14|\n",
            "|     1|                  21|\n",
            "|    13|                  18|\n",
            "|     6|                  21|\n",
            "|    16|                  17|\n",
            "|     3|                  21|\n",
            "|    20|                  14|\n",
            "|    40|                  14|\n",
            "|    48|                  14|\n",
            "|     5|                  21|\n",
            "|    19|                  17|\n",
            "|    41|                  14|\n",
            "+------+--------------------+\n",
            "only showing top 20 rows\n",
            "\n"
          ]
        }
      ]
    },
    {
      "cell_type": "code",
      "source": [
        ""
      ],
      "metadata": {
        "id": "62MLelASqH9L"
      },
      "execution_count": null,
      "outputs": []
    }
  ]
}