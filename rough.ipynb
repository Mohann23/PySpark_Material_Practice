{
  "nbformat": 4,
  "nbformat_minor": 0,
  "metadata": {
    "colab": {
      "name": "rough.ipynb",
      "provenance": [],
      "collapsed_sections": [],
      "authorship_tag": "ABX9TyPoAZkCzrdxxZicbPiPdbWS",
      "include_colab_link": true
    },
    "kernelspec": {
      "name": "python3",
      "display_name": "Python 3"
    },
    "language_info": {
      "name": "python"
    }
  },
  "cells": [
    {
      "cell_type": "markdown",
      "metadata": {
        "id": "view-in-github",
        "colab_type": "text"
      },
      "source": [
        "<a href=\"https://colab.research.google.com/github/Mohann23/PySpark_Material_Practice/blob/master/rough.ipynb\" target=\"_parent\"><img src=\"https://colab.research.google.com/assets/colab-badge.svg\" alt=\"Open In Colab\"/></a>"
      ]
    },
    {
      "cell_type": "code",
      "source": [
        "#Rough notes"
      ],
      "metadata": {
        "id": "m8oyqbbAMkhN"
      },
      "execution_count": null,
      "outputs": []
    },
    {
      "cell_type": "code",
      "execution_count": 1,
      "metadata": {
        "colab": {
          "base_uri": "https://localhost:8080/"
        },
        "id": "B9EQcjfp5SMP",
        "outputId": "cc9ee33d-34a1-4541-fc1d-bf3470139eb9"
      },
      "outputs": [
        {
          "output_type": "stream",
          "name": "stdout",
          "text": [
            "Mounted at /content/drive\n"
          ]
        }
      ],
      "source": [
        "from google.colab import drive\n",
        "drive.mount('/content/drive')\n",
        "\n",
        "!apt-get install openjdk-8-jdk-headless -qq > /dev/null\n",
        "\n",
        "\n",
        "!wget -q https://dlcdn.apache.org/spark/spark-3.2.1/spark-3.2.1-bin-hadoop3.2.tgz\n",
        "\n",
        "\n",
        "\n",
        "!tar xf spark-3.2.1-bin-hadoop3.2.tgz\n",
        "\n",
        "!pip install -q findspark\n",
        "\n",
        "import os\n",
        "os.environ[\"JAVA_HOME\"] = \"/usr/lib/jvm/java-8-openjdk-amd64\"\n",
        "os.environ[\"SPARK_HOME\"] = \"/content/spark-3.2.1-bin-hadoop3.2\"\n",
        "\n",
        "import findspark\n",
        "findspark.init()\n",
        "\n",
        "findspark.find()\n",
        "from pyspark.sql import *\n",
        "from pyspark.sql.functions import *\n",
        "from pyspark.sql.types import *"
      ]
    },
    {
      "cell_type": "code",
      "source": [
        "spark = SparkSession.builder.appName('Task_6').getOrCreate()"
      ],
      "metadata": {
        "id": "giq3rFKz5TjE"
      },
      "execution_count": 2,
      "outputs": []
    },
    {
      "cell_type": "code",
      "source": [
        "user_log_df = spark.read.csv('/content/drive/MyDrive/PYSpark_Files/user_login_history_Task_6.csv',inferSchema=True,header=True)"
      ],
      "metadata": {
        "id": "q0gCp6QH5cqx"
      },
      "execution_count": 3,
      "outputs": []
    },
    {
      "cell_type": "code",
      "source": [
        "user_log_df.show(5)"
      ],
      "metadata": {
        "colab": {
          "base_uri": "https://localhost:8080/"
        },
        "id": "OL_Jpml55gdL",
        "outputId": "5bf762da-0098-43fd-943e-3a06dc99e4f3"
      },
      "execution_count": 4,
      "outputs": [
        {
          "output_type": "stream",
          "name": "stdout",
          "text": [
            "+---+------+----------+\n",
            "| id|userid|login_date|\n",
            "+---+------+----------+\n",
            "|  1|     1|01-01-2019|\n",
            "|  2|     2|02-01-2019|\n",
            "|  3|     3|03-01-2019|\n",
            "|  4|     4|04-01-2019|\n",
            "|  5|     5|05-01-2019|\n",
            "+---+------+----------+\n",
            "only showing top 5 rows\n",
            "\n"
          ]
        }
      ]
    },
    {
      "cell_type": "code",
      "source": [
        "user = user_log_df.groupBy('userid','login_date').agg(count('userid').alias('current_year'))"
      ],
      "metadata": {
        "id": "M8BozKSG5i5O"
      },
      "execution_count": 5,
      "outputs": []
    },
    {
      "cell_type": "code",
      "source": [
        "user.show()"
      ],
      "metadata": {
        "colab": {
          "base_uri": "https://localhost:8080/"
        },
        "id": "1DtSWH_75wXF",
        "outputId": "8de456a9-159c-4e43-c288-12dfec28d1c5"
      },
      "execution_count": 6,
      "outputs": [
        {
          "output_type": "stream",
          "name": "stdout",
          "text": [
            "+------+----------+------------+\n",
            "|userid|login_date|current_year|\n",
            "+------+----------+------------+\n",
            "|    12|30-07-2020|           1|\n",
            "|     6|25-02-2021|           1|\n",
            "|     6|25-07-2021|           1|\n",
            "|    13|15-04-2022|           1|\n",
            "|    26|26-01-2020|           1|\n",
            "|     3|01-06-2020|           1|\n",
            "|    43|12-02-2021|           1|\n",
            "|    44|04-04-2021|           1|\n",
            "|    24|12-08-2021|           1|\n",
            "|     9|05-11-2021|           1|\n",
            "|     1|01-02-2019|           1|\n",
            "|     4|22-07-2020|           1|\n",
            "|    11|29-07-2020|           1|\n",
            "|    20|11-03-2021|           1|\n",
            "|    13|23-04-2021|           1|\n",
            "|    18|28-04-2021|           1|\n",
            "|     8|08-03-2019|           1|\n",
            "|    19|09-03-2020|           1|\n",
            "|    14|01-08-2020|           1|\n",
            "|     7|26-07-2021|           1|\n",
            "+------+----------+------------+\n",
            "only showing top 20 rows\n",
            "\n"
          ]
        }
      ]
    },
    {
      "cell_type": "code",
      "source": [
        "from datetime import datetime\n",
        "\n",
        "def try_parsing_date(text):\n",
        "    for fmt in ('%Y-%m-%d', '%d.%m.%Y', '%d/%m/%Y','%d-%m-%Y','%dd-%mm-%yyyy'):\n",
        "        try:\n",
        "            date_object = datetime.strptime(text, fmt)\n",
        "            converted_date_object = date_object.strftime('%Y')\n",
        "            return converted_date_object\n",
        "\n",
        "        except ValueError:\n",
        "            pass\n",
        "    return 'ERROR_DATE'\n",
        "\n",
        "def try_parsing_date_m(text):\n",
        "    for fmt in ('%Y-%m-%d', '%d.%m.%Y', '%d/%m/%Y','%d-%m-%Y','%dd-%mm-%yyyy'):\n",
        "        try:\n",
        "            date_object = datetime.strptime(text, fmt)\n",
        "            converted_date_object = date_object.strftime('%m')\n",
        "            return converted_date_object\n",
        "\n",
        "        except ValueError:\n",
        "            pass\n",
        "    return 'ERROR_DATE'\n"
      ],
      "metadata": {
        "id": "Co6HeHmF5yFc"
      },
      "execution_count": 7,
      "outputs": []
    },
    {
      "cell_type": "code",
      "source": [
        "year_handler = udf(lambda x : try_parsing_date(x))\n",
        "month_handler = udf(lambda x : try_parsing_date_m(x))"
      ],
      "metadata": {
        "id": "s7dJE9Xn65ox"
      },
      "execution_count": 8,
      "outputs": []
    },
    {
      "cell_type": "code",
      "source": [
        "df = user_log_df.withColumn('Current_year',year_handler(col('login_date')))\n",
        "df = df.withColumn('Current_Month',month_handler(col('login_date')))"
      ],
      "metadata": {
        "id": "8Szt-bGA7BRy"
      },
      "execution_count": 9,
      "outputs": []
    },
    {
      "cell_type": "code",
      "source": [
        "df.show()"
      ],
      "metadata": {
        "colab": {
          "base_uri": "https://localhost:8080/"
        },
        "id": "N5xOHp7y7aeV",
        "outputId": "c806a63e-ff92-4590-eebb-7c617a9f6e20"
      },
      "execution_count": 10,
      "outputs": [
        {
          "output_type": "stream",
          "name": "stdout",
          "text": [
            "+---+------+----------+------------+-------------+\n",
            "| id|userid|login_date|Current_year|Current_Month|\n",
            "+---+------+----------+------------+-------------+\n",
            "|  1|     1|01-01-2019|        2019|           01|\n",
            "|  2|     2|02-01-2019|        2019|           01|\n",
            "|  3|     3|03-01-2019|        2019|           01|\n",
            "|  4|     4|04-01-2019|        2019|           01|\n",
            "|  5|     5|05-01-2019|        2019|           01|\n",
            "|  6|     6|06-01-2019|        2019|           01|\n",
            "|  7|     7|07-01-2019|        2019|           01|\n",
            "|  8|     8|08-01-2019|        2019|           01|\n",
            "|  9|    68|08-01-2019|        2019|           01|\n",
            "| 10|     9|09-01-2019|        2019|           01|\n",
            "| 11|    10|10-01-2019|        2019|           01|\n",
            "| 12|     1|01-02-2019|        2019|           02|\n",
            "| 13|     2|02-02-2019|        2019|           02|\n",
            "| 14|     3|03-02-2019|        2019|           02|\n",
            "| 15|     4|04-02-2019|        2019|           02|\n",
            "| 16|     5|05-02-2019|        2019|           02|\n",
            "| 17|     6|06-02-2019|        2019|           02|\n",
            "| 18|     7|07-02-2019|        2019|           02|\n",
            "| 19|     8|08-02-2019|        2019|           02|\n",
            "| 20|     9|09-02-2019|        2019|           02|\n",
            "+---+------+----------+------------+-------------+\n",
            "only showing top 20 rows\n",
            "\n"
          ]
        }
      ]
    },
    {
      "cell_type": "code",
      "source": [
        "user = df.groupBy('userid','login_date').agg(count('userid').alias('current_year'),(count('userid').alias('current_month')))"
      ],
      "metadata": {
        "id": "ZJDunNjT7ihB"
      },
      "execution_count": 11,
      "outputs": []
    },
    {
      "cell_type": "code",
      "source": [
        "user_2 = user.select(countDistinct('userid','Current_Month').alias('mmmm'))"
      ],
      "metadata": {
        "id": "WpgY8np47vkr"
      },
      "execution_count": 26,
      "outputs": []
    },
    {
      "cell_type": "code",
      "source": [
        "user_2.show()"
      ],
      "metadata": {
        "id": "OxNiEPgc7xvR",
        "colab": {
          "base_uri": "https://localhost:8080/"
        },
        "outputId": "f5a777a3-e529-47c2-e016-f60d8f98b174"
      },
      "execution_count": 27,
      "outputs": [
        {
          "output_type": "stream",
          "name": "stdout",
          "text": [
            "+----+\n",
            "|mmmm|\n",
            "+----+\n",
            "|  51|\n",
            "+----+\n",
            "\n"
          ]
        }
      ]
    },
    {
      "cell_type": "code",
      "source": [
        ""
      ],
      "metadata": {
        "id": "4L5aGtpyTIr9"
      },
      "execution_count": null,
      "outputs": []
    }
  ]
}