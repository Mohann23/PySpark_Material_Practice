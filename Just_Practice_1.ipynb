{
  "nbformat": 4,
  "nbformat_minor": 0,
  "metadata": {
    "colab": {
      "name": "Just_Practice_1.ipynb",
      "provenance": [],
      "collapsed_sections": [],
      "authorship_tag": "ABX9TyOAo/gfcTBEdkPnzeDw8cvp",
      "include_colab_link": true
    },
    "kernelspec": {
      "name": "python3",
      "display_name": "Python 3"
    },
    "language_info": {
      "name": "python"
    }
  },
  "cells": [
    {
      "cell_type": "markdown",
      "metadata": {
        "id": "view-in-github",
        "colab_type": "text"
      },
      "source": [
        "<a href=\"https://colab.research.google.com/github/Mohann23/PySpark_Material_Practice/blob/master/Just_Practice_1.ipynb\" target=\"_parent\"><img src=\"https://colab.research.google.com/assets/colab-badge.svg\" alt=\"Open In Colab\"/></a>"
      ]
    },
    {
      "cell_type": "code",
      "execution_count": 1,
      "metadata": {
        "colab": {
          "base_uri": "https://localhost:8080/"
        },
        "id": "773ddDk48-Gb",
        "outputId": "3c59d468-1935-4f2c-a794-b2686023f5fc"
      },
      "outputs": [
        {
          "output_type": "stream",
          "name": "stdout",
          "text": [
            "Mounted at /content/drive\n"
          ]
        }
      ],
      "source": [
        "from google.colab import drive\n",
        "drive.mount('/content/drive')\n",
        "\n",
        "!apt-get install openjdk-8-jdk-headless -qq > /dev/null\n",
        "\n",
        "\n",
        "!wget -q https://dlcdn.apache.org/spark/spark-3.2.1/spark-3.2.1-bin-hadoop3.2.tgz\n",
        "\n",
        "\n",
        "\n",
        "!tar xf spark-3.2.1-bin-hadoop3.2.tgz\n",
        "\n",
        "!pip install -q findspark\n",
        "\n",
        "import os\n",
        "os.environ[\"JAVA_HOME\"] = \"/usr/lib/jvm/java-8-openjdk-amd64\"\n",
        "os.environ[\"SPARK_HOME\"] = \"/content/spark-3.2.1-bin-hadoop3.2\"\n",
        "\n",
        "import findspark\n",
        "findspark.init()\n",
        "\n",
        "findspark.find()\n",
        "from pyspark.sql import *\n",
        "from pyspark.sql.functions import *\n",
        "from pyspark.sql.types import *"
      ]
    },
    {
      "cell_type": "code",
      "source": [
        "spark = SparkSession.builder.appName('Just_practice_1').getOrCreate()"
      ],
      "metadata": {
        "id": "_TJGdBvT9SEY"
      },
      "execution_count": 2,
      "outputs": []
    },
    {
      "cell_type": "code",
      "source": [
        "file_df = spark.read.csv('/content/drive/MyDrive/PYSpark_Files/5000_Sales_Records.csv',inferSchema=True, header=True)"
      ],
      "metadata": {
        "id": "kTNQqCGc9fCt"
      },
      "execution_count": 3,
      "outputs": []
    },
    {
      "cell_type": "code",
      "source": [
        "file_df.show()"
      ],
      "metadata": {
        "colab": {
          "base_uri": "https://localhost:8080/"
        },
        "id": "-z2mqnbj9yLm",
        "outputId": "afa59674-a7e6-4263-f8e7-a04dc1af3cf4"
      },
      "execution_count": 4,
      "outputs": [
        {
          "output_type": "stream",
          "name": "stdout",
          "text": [
            "+--------------------+--------------------+---------------+-------------+--------------+----------+---------+----------+----------+----------+---------+-------------+----------+------------+\n",
            "|              Region|             Country|      Item Type|Sales Channel|Order Priority|Order Date| Order ID| Ship Date|Units Sold|Unit Price|Unit Cost|Total Revenue|Total Cost|Total Profit|\n",
            "+--------------------+--------------------+---------------+-------------+--------------+----------+---------+----------+----------+----------+---------+-------------+----------+------------+\n",
            "|Central America a...|Antigua and Barbuda |      Baby Food|       Online|             M|12/20/2013|957081544| 1/11/2014|       552|    255.28|   159.42|    140914.56|  87999.84|    52914.72|\n",
            "|Central America a...|              Panama|         Snacks|      Offline|             C|  7/5/2010|301644504| 7/26/2010|      2167|    152.58|    97.44|    330640.86| 211152.48|   119488.38|\n",
            "|              Europe|      Czech Republic|      Beverages|      Offline|             C| 9/12/2011|478051030| 9/29/2011|      4778|     47.45|    31.79|     226716.1| 151892.62|    74823.48|\n",
            "|                Asia|         North Korea|         Cereal|      Offline|             L| 5/13/2010|892599952| 6/15/2010|      9016|     205.7|   117.11|    1854591.2|1055863.76|   798727.44|\n",
            "|                Asia|           Sri Lanka|         Snacks|      Offline|             C| 7/20/2015|571902596| 7/27/2015|      7542|    152.58|    97.44|   1150758.36| 734892.48|   415865.88|\n",
            "|Middle East and N...|             Morocco|  Personal Care|      Offline|             L| 11/8/2010|412882792|11/22/2010|        48|     81.73|    56.67|      3923.04|   2720.16|     1202.88|\n",
            "|Australia and Oce...|Federated States ...|        Clothes|      Offline|             H| 3/28/2011|932776868| 5/10/2011|      8258|    109.28|    35.84|    902434.24| 295966.72|   606467.52|\n",
            "|              Europe|Bosnia and Herzeg...|        Clothes|       Online|             M|10/14/2013|919133651| 11/4/2013|       927|    109.28|    35.84|    101302.56|  33223.68|    68078.88|\n",
            "|Middle East and N...|         Afghanistan|        Clothes|      Offline|             M| 8/27/2016|579814469| 10/5/2016|      8841|    109.28|    35.84|    966144.48| 316861.44|   649283.04|\n",
            "|  Sub-Saharan Africa|            Ethiopia|      Baby Food|       Online|             M| 4/13/2015|192993152|  5/7/2015|      9817|    255.28|   159.42|   2506083.76|1565026.14|   941057.62|\n",
            "|Middle East and N...|              Turkey|Office Supplies|      Offline|             C| 9/25/2013|557156026|10/15/2013|      3704|    651.21|   524.96|   2412081.84|1944451.84|    467630.0|\n",
            "|Middle East and N...|                Oman|      Cosmetics|       Online|             M| 5/12/2013|741101920| 5/17/2013|      7382|     437.2|   263.33|    3227410.4|1943902.06|  1283508.34|\n",
            "|                Asia|            Malaysia|         Cereal|      Offline|             L| 7/31/2016|333942162| 8/25/2016|      9762|     205.7|   117.11|    2008043.4|1143227.82|   864815.58|\n",
            "|Central America a...|         Saint Lucia|      Cosmetics|      Offline|             H|  7/6/2015|795100581| 7/16/2015|      6786|     437.2|   263.33|    2966839.2|1786957.38|  1179881.82|\n",
            "|Central America a...|Saint Vincent and...|      Baby Food|       Online|             L|11/28/2010|504313504| 12/3/2010|      6428|    255.28|   159.42|   1640939.84|1024751.76|   616188.08|\n",
            "|Middle East and N...|             Lebanon|           Meat|      Offline|             H|12/17/2015|611629760| 1/31/2016|      3693|    421.89|   364.69|   1558039.77|1346800.17|    211239.6|\n",
            "|              Europe|             Austria|         Cereal|      Offline|             C| 8/13/2014|987410676|  9/6/2014|      5616|     205.7|   117.11|    1155211.2| 657689.76|   497521.44|\n",
            "|              Europe|            Bulgaria|Office Supplies|       Online|             L|10/31/2010|672330081|11/29/2010|      6266|    651.21|   524.96|   4080481.86|3289399.36|    791082.5|\n",
            "|       North America|              Mexico|      Beverages|       Online|             C| 3/13/2017|127374303| 3/20/2017|      1742|     47.45|    31.79|      82657.9|  55378.18|    27279.72|\n",
            "|Central America a...| Trinidad and Tobago|      Baby Food|      Offline|             C| 4/16/2013|783842170|  6/1/2013|      5172|    255.28|   159.42|   1320308.16| 824520.24|   495787.92|\n",
            "+--------------------+--------------------+---------------+-------------+--------------+----------+---------+----------+----------+----------+---------+-------------+----------+------------+\n",
            "only showing top 20 rows\n",
            "\n"
          ]
        }
      ]
    },
    {
      "cell_type": "code",
      "source": [
        "def upper_case(x):\n",
        "  '''\n",
        "  Using this we are changing the lower case to upper case\n",
        "  '''\n",
        "  return x.upper()"
      ],
      "metadata": {
        "id": "Qf8Z1uYqhezA"
      },
      "execution_count": 5,
      "outputs": []
    },
    {
      "cell_type": "code",
      "source": [
        "upper_udf = udf(lambda x: upper_case(x))"
      ],
      "metadata": {
        "id": "kbkjRJ7RiGqT"
      },
      "execution_count": 6,
      "outputs": []
    },
    {
      "cell_type": "code",
      "source": [
        "file_upper = file_df.select(upper_udf(col('Region').alias('Region_upper')),\n",
        "                            upper_udf(col('Country').alias('Country_upper')),\n",
        "                            upper_udf(col('Item Type').alias('Item Type_upper')),\n",
        "                            upper_udf(col('Sales Channel').alias('Sales Channel_upper'))\n",
        "                            )"
      ],
      "metadata": {
        "id": "9VvHUcTTiO_P"
      },
      "execution_count": 7,
      "outputs": []
    },
    {
      "cell_type": "code",
      "source": [
        "file_upper.show()"
      ],
      "metadata": {
        "colab": {
          "base_uri": "https://localhost:8080/"
        },
        "id": "ouTPNuE0jRvJ",
        "outputId": "cce8882f-001f-4578-8e80-f8d4cf933fad"
      },
      "execution_count": 8,
      "outputs": [
        {
          "output_type": "stream",
          "name": "stdout",
          "text": [
            "+--------------------------------+----------------------------------+----------------------------------------+------------------------------------------------+\n",
            "|<lambda>(Region AS Region_upper)|<lambda>(Country AS Country_upper)|<lambda>(Item Type AS `Item Type_upper`)|<lambda>(Sales Channel AS `Sales Channel_upper`)|\n",
            "+--------------------------------+----------------------------------+----------------------------------------+------------------------------------------------+\n",
            "|            CENTRAL AMERICA A...|              ANTIGUA AND BARBUDA |                               BABY FOOD|                                          ONLINE|\n",
            "|            CENTRAL AMERICA A...|                            PANAMA|                                  SNACKS|                                         OFFLINE|\n",
            "|                          EUROPE|                    CZECH REPUBLIC|                               BEVERAGES|                                         OFFLINE|\n",
            "|                            ASIA|                       NORTH KOREA|                                  CEREAL|                                         OFFLINE|\n",
            "|                            ASIA|                         SRI LANKA|                                  SNACKS|                                         OFFLINE|\n",
            "|            MIDDLE EAST AND N...|                           MOROCCO|                           PERSONAL CARE|                                         OFFLINE|\n",
            "|            AUSTRALIA AND OCE...|              FEDERATED STATES ...|                                 CLOTHES|                                         OFFLINE|\n",
            "|                          EUROPE|              BOSNIA AND HERZEG...|                                 CLOTHES|                                          ONLINE|\n",
            "|            MIDDLE EAST AND N...|                       AFGHANISTAN|                                 CLOTHES|                                         OFFLINE|\n",
            "|              SUB-SAHARAN AFRICA|                          ETHIOPIA|                               BABY FOOD|                                          ONLINE|\n",
            "|            MIDDLE EAST AND N...|                            TURKEY|                         OFFICE SUPPLIES|                                         OFFLINE|\n",
            "|            MIDDLE EAST AND N...|                              OMAN|                               COSMETICS|                                          ONLINE|\n",
            "|                            ASIA|                          MALAYSIA|                                  CEREAL|                                         OFFLINE|\n",
            "|            CENTRAL AMERICA A...|                       SAINT LUCIA|                               COSMETICS|                                         OFFLINE|\n",
            "|            CENTRAL AMERICA A...|              SAINT VINCENT AND...|                               BABY FOOD|                                          ONLINE|\n",
            "|            MIDDLE EAST AND N...|                           LEBANON|                                    MEAT|                                         OFFLINE|\n",
            "|                          EUROPE|                           AUSTRIA|                                  CEREAL|                                         OFFLINE|\n",
            "|                          EUROPE|                          BULGARIA|                         OFFICE SUPPLIES|                                          ONLINE|\n",
            "|                   NORTH AMERICA|                            MEXICO|                               BEVERAGES|                                          ONLINE|\n",
            "|            CENTRAL AMERICA A...|               TRINIDAD AND TOBAGO|                               BABY FOOD|                                         OFFLINE|\n",
            "+--------------------------------+----------------------------------+----------------------------------------+------------------------------------------------+\n",
            "only showing top 20 rows\n",
            "\n"
          ]
        }
      ]
    },
    {
      "cell_type": "code",
      "source": [
        "json_df = spark.read.json('/content/drive/MyDrive/PYSpark_Files/Sample_by_Praveen.json')"
      ],
      "metadata": {
        "id": "_MJTnym-jaRf"
      },
      "execution_count": 11,
      "outputs": []
    },
    {
      "cell_type": "code",
      "source": [
        "json_df.show()"
      ],
      "metadata": {
        "colab": {
          "base_uri": "https://localhost:8080/"
        },
        "id": "3klCX_fvLgge",
        "outputId": "656ced9e-676d-46d7-9b13-a44be231ba7f"
      },
      "execution_count": 12,
      "outputs": [
        {
          "output_type": "stream",
          "name": "stdout",
          "text": [
            "+------+----------+-----------+----------------+-----+------+----+\n",
            "|amount|      date|   discount|         emailid|month|userid|year|\n",
            "+------+----------+-----------+----------------+-----+------+----+\n",
            "|   100|01-01-2019|        1.0| test1@gmail.com|   01|     1|2019|\n",
            "|   100|02-01-2019|        1.0| test2@gmail.com|   01|     2|2019|\n",
            "|   101|03-01-2019|        2.0| test3@gmail.com|   01|     3|2019|\n",
            "|   102|04-01-2019|       10.0| test4@gmail.com|   01|     4|2019|\n",
            "| 102.5|05-01-2019|        2.0| test5@gmail.com|   01|     5|2019|\n",
            "| 103.2|06-01-2019|        1.0| test6@gmail.com|   01|     6|2019|\n",
            "| 103.9|07-01-2019|        3.0| test7@gmail.com|   01|     7|2019|\n",
            "| 104.6|08-01-2019|        5.0| test8@gmail.com|   01|     8|2019|\n",
            "| 105.3|09-01-2019|4.571428571| test9@gmail.com|   01|     9|2019|\n",
            "|   106|10-01-2019|4.892857143|test10@gmail.com|   01|    10|2019|\n",
            "| 106.7|11-01-2019|5.214285714|test11@gmail.com|   01|    11|2019|\n",
            "| 107.4|12-01-2019|5.535714286|test12@gmail.com|   01|    12|2019|\n",
            "| 108.1|13-01-2019|5.857142857|test13@gmail.com|   01|    13|2019|\n",
            "| 108.8|14-01-2019|6.178571429|test14@gmail.com|   01|    14|2019|\n",
            "| 109.5|15-01-2019|        6.5|test15@gmail.com|   01|    15|2019|\n",
            "| 110.2|16-01-2019|6.821428571|test16@gmail.com|   01|    16|2019|\n",
            "| 110.9|17-01-2019|7.142857143|test17@gmail.com|   01|    17|2019|\n",
            "| 111.6|18-01-2019|7.464285714|test18@gmail.com|   01|    18|2019|\n",
            "| 112.3|19-01-2019|7.785714286|test19@gmail.com|   01|    19|2019|\n",
            "|   113|20-01-2019|8.107142857|test20@gmail.com|   01|    20|2019|\n",
            "+------+----------+-----------+----------------+-----+------+----+\n",
            "only showing top 20 rows\n",
            "\n"
          ]
        }
      ]
    },
    {
      "cell_type": "code",
      "source": [
        "parquet_df = spark.read.parquet('/content/drive/MyDrive/PYSpark_Files/sample_Parquet_file.parquet')"
      ],
      "metadata": {
        "id": "jtchrRE7LjVW"
      },
      "execution_count": 13,
      "outputs": []
    },
    {
      "cell_type": "code",
      "source": [
        "parquet_df.show()"
      ],
      "metadata": {
        "colab": {
          "base_uri": "https://localhost:8080/"
        },
        "id": "jkJhds9mOCGn",
        "outputId": "38df5c23-59b2-4a3e-f785-6834fd64243a"
      },
      "execution_count": 14,
      "outputs": [
        {
          "output_type": "stream",
          "name": "stdout",
          "text": [
            "+-------------------+---+----------+----------+--------------------+------+---------------+-------------------+-------------+----------+---------+--------------------+--------+\n",
            "|  registration_dttm| id|first_name| last_name|               email|gender|     ip_address|                 cc|      country| birthdate|   salary|               title|comments|\n",
            "+-------------------+---+----------+----------+--------------------+------+---------------+-------------------+-------------+----------+---------+--------------------+--------+\n",
            "|2016-02-04 15:28:05|  1|    Howard|    Morgan|hmorgan0@typepad.com|      | 158.178.195.62|                   |     Colombia| 12/2/1992|     null|     Data Coordiator|        |\n",
            "|2016-02-04 10:28:40|  2|   Jessica|   Schmidt|jschmidt1@google.com|Female| 168.118.247.35|   3565285464047941|   Luxembourg| 4/14/1995|222396.46|      Research Nurse|     nil|\n",
            "|2016-02-04 18:01:36|  3|   Beverly|    Flores|bflores2@wikipedi...|Female|   51.97.88.173|                   |       Sweden| 2/15/1965| 141112.8|             Actuary|        |\n",
            "|2016-02-04 08:51:14|  4|   Marilyn|   Sanchez| msanchez3@intel.com|Female|186.206.142.162|                   |        China|  8/6/1969| 87914.29| Structural Engineer|        |\n",
            "|2016-02-04 06:33:08|  5|    Janice|  Mitchell|jmitchell4@sina.c...|Female|205.187.116.241|5610719759939376962|       Poland|  7/4/1995| 269297.4|Systems Administr...|        |\n",
            "|2016-02-04 00:20:27|  6|   William|Williamson|wwilliamson5@trel...|  Male|   44.86.73.201|    201849487683564|    Indonesia| 12/6/1993| 95352.25|           Librarian|   1E+02|\n",
            "|2016-02-04 16:10:12|  7|      Jack|     James|   jjames6@sogou.com|  Male|  59.184.76.208|   3552911855395632|    Indonesia|11/25/1968| 82549.73|Compensation Analyst| ‪‪test‪|\n",
            "|2016-02-04 03:25:25|  8|     Jesse|    Arnold|    jarnold7@soup.io|  Male|     7.25.90.13|   5100177285965756|       Brazil|10/19/1987|257968.86| Executive Secretary|        |\n",
            "|2016-02-04 21:50:27|  9|      Lori|     Woods|lwoods8@fastcompa...|Female|  147.157.215.9|   4844532485570190|    Indonesia|12/26/1975|186145.91|      Health Coach I|        |\n",
            "|2016-02-04 15:57:35| 10|      Juan|     Evans|  jevans9@zimbio.com|  Male|150.132.218.181|   3578802610769023|  Philippines| 5/29/1988|129369.52|       Social Worker|        |\n",
            "|2016-02-04 09:51:30| 11|       Roy|  Matthews| rmatthewsa@ucsd.edu|  Male| 203.239.85.224|   5100135134598509|       Russia|          |192057.84|                    |        |\n",
            "|2016-02-04 11:42:25| 12|   Kenneth|      King|   kkingb@zimbio.com|      |   9.103.96.206| 675913564329481832|       Greece|          |     null|                    |        |\n",
            "|2016-02-04 06:50:00| 13|   Raymond|     Green|     rgreenc@fc2.com|  Male|   163.9.101.43|                   |United States| 1/28/1984|225094.01|Budget/Accounting...|        |\n",
            "|2016-02-04 16:28:20| 14|   Lillian|  Stephens|  lstephensd@psu.edu|Female|   31.50.183.23| 630455284969060148|      Finland|  6/1/1973| 19354.85|Information Syste...|        |\n",
            "|2016-02-04 04:38:17| 15|      Mary|  Gonzales|mgonzalese@wired.com|Female|   91.42.17.109|   3560985473023370|       France|  5/7/1966| 23746.36|Compensation Analyst|        |\n",
            "|2016-02-04 04:58:15| 16|     Roger|     Mason|rmasonf@newyorker...|  Male| 169.33.172.204|   3545036194973129|       Norway|          |165855.47|                    |        |\n",
            "|2016-02-04 16:43:18| 17|     Diane|      Cole|   dcoleg@unesco.org|Female|  157.11.85.209|                   |  Philippines|  6/9/1994|105028.67|   Assistant Manager|        |\n",
            "|2016-02-04 15:54:30| 18|     Annie|      Hunt|    ahunth@ocn.ne.jp|Female| 169.47.232.187|   5100177440436305|       Poland| 3/30/1992| 266071.6|     Legal Assistant|        |\n",
            "|2016-02-04 15:47:52| 19|Jacqueline|   Bradley|   jbradleyi@epa.gov|Female|  83.241.214.77|   5100131814165289|    Indonesia| 12/1/1971| 55440.88|    Dental Hygienist|        |\n",
            "|2016-02-04 15:37:28| 20|     Kathy|   Russell|krussellj@joomla.org|Female|   158.32.89.44|   3585627581021729|    Indonesia|11/20/1999| 29602.23|Sales Representative|        |\n",
            "+-------------------+---+----------+----------+--------------------+------+---------------+-------------------+-------------+----------+---------+--------------------+--------+\n",
            "only showing top 20 rows\n",
            "\n"
          ]
        }
      ]
    },
    {
      "cell_type": "code",
      "source": [
        ""
      ],
      "metadata": {
        "id": "Upnor2K0OD_M"
      },
      "execution_count": null,
      "outputs": []
    }
  ]
}