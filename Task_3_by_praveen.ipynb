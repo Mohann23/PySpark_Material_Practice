{
  "nbformat": 4,
  "nbformat_minor": 0,
  "metadata": {
    "colab": {
      "name": "Task_3_by_praveen.ipynb",
      "provenance": [],
      "collapsed_sections": [],
      "authorship_tag": "ABX9TyMVUB5T+TgsFKZA3l+k0BPR",
      "include_colab_link": true
    },
    "kernelspec": {
      "name": "python3",
      "display_name": "Python 3"
    },
    "language_info": {
      "name": "python"
    }
  },
  "cells": [
    {
      "cell_type": "markdown",
      "metadata": {
        "id": "view-in-github",
        "colab_type": "text"
      },
      "source": [
        "<a href=\"https://colab.research.google.com/github/Mohann23/PySpark_Material_Practice/blob/master/Task_3_by_praveen.ipynb\" target=\"_parent\"><img src=\"https://colab.research.google.com/assets/colab-badge.svg\" alt=\"Open In Colab\"/></a>"
      ]
    },
    {
      "cell_type": "code",
      "execution_count": null,
      "metadata": {
        "id": "Gp_M-ynOp4Xx",
        "colab": {
          "base_uri": "https://localhost:8080/"
        },
        "outputId": "d59802ef-ee6e-48a1-956b-58eb274f2fdf"
      },
      "outputs": [
        {
          "output_type": "stream",
          "name": "stdout",
          "text": [
            "Mounted at /content/drive\n"
          ]
        }
      ],
      "source": [
        "from google.colab import drive\n",
        "drive.mount('/content/drive')\n",
        "\n",
        "!apt-get install openjdk-8-jdk-headless -qq > /dev/null\n",
        "\n",
        "\n",
        "!wget -q https://dlcdn.apache.org/spark/spark-3.2.1/spark-3.2.1-bin-hadoop3.2.tgz\n",
        "\n",
        "\n",
        "\n",
        "!tar xf spark-3.2.1-bin-hadoop3.2.tgz\n",
        "\n",
        "!pip install -q findspark\n",
        "\n",
        "import os\n",
        "os.environ[\"JAVA_HOME\"] = \"/usr/lib/jvm/java-8-openjdk-amd64\"\n",
        "os.environ[\"SPARK_HOME\"] = \"/content/spark-3.2.1-bin-hadoop3.2\"\n",
        "\n",
        "import findspark\n",
        "findspark.init()\n",
        "\n",
        "findspark.find()\n",
        "from pyspark.sql import *\n",
        "from pyspark.sql.functions import *\n",
        "from pyspark.sql.types import *"
      ]
    },
    {
      "cell_type": "code",
      "source": [
        "spark = SparkSession.builder.appName('Day_3_task').getOrCreate()"
      ],
      "metadata": {
        "id": "IUMo7Q4dqvhu"
      },
      "execution_count": null,
      "outputs": []
    },
    {
      "cell_type": "code",
      "source": [
        "task_df = spark.read.csv('/content/drive/MyDrive/PYSpark_Files/Day_3_task_3_File.csv', inferSchema = True, header = True)"
      ],
      "metadata": {
        "id": "CzzGzD2Xq6yN"
      },
      "execution_count": null,
      "outputs": []
    },
    {
      "cell_type": "code",
      "source": [
        "task_df.show()"
      ],
      "metadata": {
        "colab": {
          "base_uri": "https://localhost:8080/"
        },
        "id": "oTJxA2Eqsp-D",
        "outputId": "34b52b9f-dc12-443e-a417-9e3233328642"
      },
      "execution_count": null,
      "outputs": [
        {
          "output_type": "stream",
          "name": "stdout",
          "text": [
            "+------+----------------+----------+------+-----------+\n",
            "|userid|         emailid|      date|amount|   discount|\n",
            "+------+----------------+----------+------+-----------+\n",
            "|     1| test1@gmail.com|01-01-2019|   100|        1.0|\n",
            "|     2| test2@gmail.com|02-01-2019|   100|        1.0|\n",
            "|     3| test3@gmail.com|03-01-2019|   101|        2.0|\n",
            "|     4| test4@gmail.com|04-01-2019|   102|       10.0|\n",
            "|     5| test5@gmail.com|05-01-2019| 102.5|        2.0|\n",
            "|     6| test6@gmail.com|06-01-2019| 103.2|        1.0|\n",
            "|     7| test7@gmail.com|07-01-2019| 103.9|        3.0|\n",
            "|     8| test8@gmail.com|08-01-2019| 104.6|        5.0|\n",
            "|     9| test9@gmail.com|09-01-2019| 105.3|4.571428571|\n",
            "|    10|test10@gmail.com|10-01-2019|   106|4.892857143|\n",
            "|    11|test11@gmail.com|11-01-2019| 106.7|5.214285714|\n",
            "|    12|test12@gmail.com|12-01-2019| 107.4|5.535714286|\n",
            "|    13|test13@gmail.com|13-01-2019| 108.1|5.857142857|\n",
            "|    14|test14@gmail.com|14-01-2019| 108.8|6.178571429|\n",
            "|    15|test15@gmail.com|15-01-2019| 109.5|        6.5|\n",
            "|    16|test16@gmail.com|16-01-2019| 110.2|6.821428571|\n",
            "|    17|test17@gmail.com|17-01-2019| 110.9|7.142857143|\n",
            "|    18|test18@gmail.com|18-01-2019| 111.6|7.464285714|\n",
            "|    19|test19@gmail.com|19-01-2019| 112.3|7.785714286|\n",
            "|    20|test20@gmail.com|20-01-2019|   113|8.107142857|\n",
            "+------+----------------+----------+------+-----------+\n",
            "only showing top 20 rows\n",
            "\n"
          ]
        }
      ]
    },
    {
      "cell_type": "code",
      "source": [
        "task_df.count()"
      ],
      "metadata": {
        "colab": {
          "base_uri": "https://localhost:8080/"
        },
        "id": "-WAyNz-0VvQV",
        "outputId": "3eace05e-5bb9-4669-f2bc-9301eda11ce1"
      },
      "execution_count": null,
      "outputs": [
        {
          "output_type": "execute_result",
          "data": {
            "text/plain": [
              "902"
            ]
          },
          "metadata": {},
          "execution_count": 7
        }
      ]
    },
    {
      "cell_type": "code",
      "source": [
        "task_df_before = task_df.filter(task_df.date == \"null\")\n",
        "task_df_before.show()"
      ],
      "metadata": {
        "colab": {
          "base_uri": "https://localhost:8080/"
        },
        "id": "NEJ95xKSWbOO",
        "outputId": "7416f378-2f23-41cb-a4c8-67eb4e6bf8a8"
      },
      "execution_count": null,
      "outputs": [
        {
          "output_type": "stream",
          "name": "stdout",
          "text": [
            "+------+----------------+----+------+--------+\n",
            "|userid|         emailid|date|amount|discount|\n",
            "+------+----------------+----+------+--------+\n",
            "|    78|test78@gmail.com|null| 258.6|   26.75|\n",
            "+------+----------------+----+------+--------+\n",
            "\n"
          ]
        }
      ]
    },
    {
      "cell_type": "code",
      "source": [
        "#1st remove null values\n",
        "#Here we use a inbuild function to drop the null values \n",
        "#here we are reassigning the variable name as task so that we don't we don't have any confussion\n",
        "task_df = task_df.dropna()"
      ],
      "metadata": {
        "id": "gKHtN2b1rooN"
      },
      "execution_count": null,
      "outputs": []
    },
    {
      "cell_type": "code",
      "source": [
        "task_df.count()"
      ],
      "metadata": {
        "colab": {
          "base_uri": "https://localhost:8080/"
        },
        "id": "Gh4SN8B6Vt3Y",
        "outputId": "760a271a-9ac4-407a-edd5-68748e90f11c"
      },
      "execution_count": null,
      "outputs": [
        {
          "output_type": "execute_result",
          "data": {
            "text/plain": [
              "901"
            ]
          },
          "metadata": {},
          "execution_count": 10
        }
      ]
    },
    {
      "cell_type": "code",
      "source": [
        "task_df.show()"
      ],
      "metadata": {
        "colab": {
          "base_uri": "https://localhost:8080/"
        },
        "id": "WgJbVVneV044",
        "outputId": "543a7c48-6429-4afe-b1a2-3f99626e496d"
      },
      "execution_count": null,
      "outputs": [
        {
          "output_type": "stream",
          "name": "stdout",
          "text": [
            "+------+----------------+----------+------+-----------+\n",
            "|userid|         emailid|      date|amount|   discount|\n",
            "+------+----------------+----------+------+-----------+\n",
            "|     1| test1@gmail.com|01-01-2019|   100|        1.0|\n",
            "|     2| test2@gmail.com|02-01-2019|   100|        1.0|\n",
            "|     3| test3@gmail.com|03-01-2019|   101|        2.0|\n",
            "|     4| test4@gmail.com|04-01-2019|   102|       10.0|\n",
            "|     5| test5@gmail.com|05-01-2019| 102.5|        2.0|\n",
            "|     6| test6@gmail.com|06-01-2019| 103.2|        1.0|\n",
            "|     7| test7@gmail.com|07-01-2019| 103.9|        3.0|\n",
            "|     8| test8@gmail.com|08-01-2019| 104.6|        5.0|\n",
            "|     9| test9@gmail.com|09-01-2019| 105.3|4.571428571|\n",
            "|    10|test10@gmail.com|10-01-2019|   106|4.892857143|\n",
            "|    11|test11@gmail.com|11-01-2019| 106.7|5.214285714|\n",
            "|    12|test12@gmail.com|12-01-2019| 107.4|5.535714286|\n",
            "|    13|test13@gmail.com|13-01-2019| 108.1|5.857142857|\n",
            "|    14|test14@gmail.com|14-01-2019| 108.8|6.178571429|\n",
            "|    15|test15@gmail.com|15-01-2019| 109.5|        6.5|\n",
            "|    16|test16@gmail.com|16-01-2019| 110.2|6.821428571|\n",
            "|    17|test17@gmail.com|17-01-2019| 110.9|7.142857143|\n",
            "|    18|test18@gmail.com|18-01-2019| 111.6|7.464285714|\n",
            "|    19|test19@gmail.com|19-01-2019| 112.3|7.785714286|\n",
            "|    20|test20@gmail.com|20-01-2019|   113|8.107142857|\n",
            "+------+----------------+----------+------+-----------+\n",
            "only showing top 20 rows\n",
            "\n"
          ]
        }
      ]
    },
    {
      "cell_type": "code",
      "source": [
        "non_df = task_df.filter(task_df.userid == 'null')"
      ],
      "metadata": {
        "id": "F-akg60NW4aC"
      },
      "execution_count": null,
      "outputs": []
    },
    {
      "cell_type": "code",
      "source": [
        "from datetime import datetime\n",
        "def func_date(str1):\n",
        "  for fmt in ('%Y-%m-%d', '%d.%m.%Y', '%d/%m/%Y','%d-%m-%Y','%dd-%mm-%yyyy','%d-%b-%Y','%d-%B-%Y'):\n",
        "    try:\n",
        "      date_object =  datetime.strptime(str1, fmt)\n",
        "      converted_date = date_object.strftime('%Y-%m-%d')\n",
        "      return converted_date\n",
        "    except ValueError:\n",
        "      pass\n",
        "  raise ValueError('no valid date format found')\n",
        "\n"
      ],
      "metadata": {
        "id": "BLS6H8YcjriU"
      },
      "execution_count": null,
      "outputs": []
    },
    {
      "cell_type": "markdown",
      "source": [
        "Directive or format code \tReturned Valued\tExample\n",
        "%Y\tFull year with century\t2021,2022\n",
        "%y\tYear without century with zero padded value\t00,01,….21,22…,99\n",
        "%-y\tYear without century\t0,1…,99\n",
        "%m\tMonth with zero padded value\t01-12\n",
        "%-m\tMonth without zero padded value\t1-12\n",
        "%B\tFull month name\tJanuary, February,…, December\n",
        "%b\tShort form of month \tJan, Feb,…,Dec\n",
        "%A\tFull weekday name\tSunday, Monday,..\n",
        "%a\tShort form of weekday name\tSun, Mon,..\n",
        "%w\tWeekday as decimal value\t0-6\n",
        "%d\tDays with zero padded value\t01-31\n",
        "%-d\tDays with decimal value\t1-31\n",
        "%H\tHour (24-hour clock) as a zero-padded value.\t00-23\n",
        "%-H\tHour (24-hour clock) without zero-padded value.\t0,1,…,23\n",
        "%I\tHour (12-hour clock) as a zero-padded value.\t01-12\n",
        "%-I\tHour (12-hour clock) without zero-padded value.\t1-12\n",
        "%M\tMins with zero-padded \t00-59\n",
        "%-M\tMins without zero padded value\t0-59\n",
        "%S\tSecs with zero padded value\t00-59\n",
        "%-S\tSecs without zero padded value\t0-59\n",
        "%f\tMicro Secs with zero-padded value\t000000 – 999999\n",
        "%p\tLocale’s AM or PM.\tAM/PM\n",
        "%j\tDay of the year with zero padded value\t001-366\n",
        "%-j\tDay of the year without zero padded value\t1-366\n",
        "%z\tUTC offset in the form +HHMM or -HHMM.\t \n",
        "%Z\tTime zone name.\t \n",
        "%C\tLocale’s appropriate date and time\tFri Apr 02 02:09:07 2020\n",
        "%x\tLocale’s appropriate date\t02/04/22\n",
        "%X\tLocale’s appropriate time\t02:04:22\n",
        "%W\tWeek number of the year. Monday as first day of week\t00-53\n",
        "%U\tWeek number of the year. Sunday as first day of week\t00-53"
      ],
      "metadata": {
        "id": "Sn2NntMhw-h6"
      }
    },
    {
      "cell_type": "code",
      "source": [
        "date_udf = udf(lambda str1: func_date(str1))"
      ],
      "metadata": {
        "id": "wDLHxI5EjrS_"
      },
      "execution_count": null,
      "outputs": []
    },
    {
      "cell_type": "code",
      "source": [
        "date_change = task_df.select(col('date'),date_udf(col('date').alias(\"Updated_date\")))"
      ],
      "metadata": {
        "id": "WBWREk7oV-3Y"
      },
      "execution_count": null,
      "outputs": []
    },
    {
      "cell_type": "code",
      "source": [
        "date_change.show()"
      ],
      "metadata": {
        "id": "unB50vhmQyve",
        "colab": {
          "base_uri": "https://localhost:8080/"
        },
        "outputId": "edef8262-a3af-4060-c963-8fb2e54ea1e4"
      },
      "execution_count": null,
      "outputs": [
        {
          "output_type": "stream",
          "name": "stdout",
          "text": [
            "+----------+------------------------------+\n",
            "|      date|<lambda>(date AS Updated_date)|\n",
            "+----------+------------------------------+\n",
            "|01-01-2019|                    2019-01-01|\n",
            "|02-01-2019|                    2019-01-02|\n",
            "|03-01-2019|                    2019-01-03|\n",
            "|04-01-2019|                    2019-01-04|\n",
            "|05-01-2019|                    2019-01-05|\n",
            "|06-01-2019|                    2019-01-06|\n",
            "|07-01-2019|                    2019-01-07|\n",
            "|08-01-2019|                    2019-01-08|\n",
            "|09-01-2019|                    2019-01-09|\n",
            "|10-01-2019|                    2019-01-10|\n",
            "|11-01-2019|                    2019-01-11|\n",
            "|12-01-2019|                    2019-01-12|\n",
            "|13-01-2019|                    2019-01-13|\n",
            "|14-01-2019|                    2019-01-14|\n",
            "|15-01-2019|                    2019-01-15|\n",
            "|16-01-2019|                    2019-01-16|\n",
            "|17-01-2019|                    2019-01-17|\n",
            "|18-01-2019|                    2019-01-18|\n",
            "|19-01-2019|                    2019-01-19|\n",
            "|20-01-2019|                    2019-01-20|\n",
            "+----------+------------------------------+\n",
            "only showing top 20 rows\n",
            "\n"
          ]
        }
      ]
    },
    {
      "cell_type": "code",
      "source": [
        "pip install validate_email"
      ],
      "metadata": {
        "colab": {
          "base_uri": "https://localhost:8080/"
        },
        "id": "mwVZEYLtruQD",
        "outputId": "3e7b1623-5187-4f6f-83b8-8d455336ed47"
      },
      "execution_count": null,
      "outputs": [
        {
          "output_type": "stream",
          "name": "stdout",
          "text": [
            "Looking in indexes: https://pypi.org/simple, https://us-python.pkg.dev/colab-wheels/public/simple/\n",
            "Collecting validate_email\n",
            "  Downloading validate_email-1.3.tar.gz (4.7 kB)\n",
            "Building wheels for collected packages: validate-email\n",
            "  Building wheel for validate-email (setup.py) ... \u001b[?25l\u001b[?25hdone\n",
            "  Created wheel for validate-email: filename=validate_email-1.3-py3-none-any.whl size=5482 sha256=faf3678f7de8e9e9ab01adfb85e678b26f4fcaf3207b48e3007d06978827674e\n",
            "  Stored in directory: /root/.cache/pip/wheels/ff/8f/92/c43287715852eaa75e0d8aa1941c481072b4a82c4f4975074e\n",
            "Successfully built validate-email\n",
            "Installing collected packages: validate-email\n",
            "Successfully installed validate-email-1.3\n"
          ]
        }
      ]
    },
    {
      "cell_type": "code",
      "source": [
        "from validate_email import validate_email\n",
        "is_valid = validate_email(\"mohan@mohan.com\")"
      ],
      "metadata": {
        "id": "qpuUbxdRrAqR"
      },
      "execution_count": null,
      "outputs": []
    },
    {
      "cell_type": "code",
      "source": [
        "def email_validation(str1):\n",
        "  is_valid = validate_email(str1)\n",
        "  if is_valid:\n",
        "    return str1\n",
        "  else:\n",
        "    \"error\"\n"
      ],
      "metadata": {
        "id": "lCkMu6TgrVfm"
      },
      "execution_count": null,
      "outputs": []
    },
    {
      "cell_type": "code",
      "source": [
        "email_validation_udf = udf(lambda x : email_validation(x))"
      ],
      "metadata": {
        "id": "2EWjTGnhsm8r"
      },
      "execution_count": null,
      "outputs": []
    },
    {
      "cell_type": "code",
      "source": [
        "email_correction = task_df.select(col('emailid'),email_validation_udf(col('emailid').alias('emailid_validated')))"
      ],
      "metadata": {
        "id": "Tf9rhtIvs9gS"
      },
      "execution_count": null,
      "outputs": []
    },
    {
      "cell_type": "code",
      "source": [
        "email_correction.show()"
      ],
      "metadata": {
        "colab": {
          "base_uri": "https://localhost:8080/"
        },
        "id": "Iof9LPGktdDx",
        "outputId": "198e825e-6d4e-4769-e480-41a05a7038d0"
      },
      "execution_count": null,
      "outputs": [
        {
          "output_type": "stream",
          "name": "stdout",
          "text": [
            "+----------------+--------------------------------------+\n",
            "|         emailid|<lambda>(emailid AS emailid_validated)|\n",
            "+----------------+--------------------------------------+\n",
            "| test1@gmail.com|                       test1@gmail.com|\n",
            "| test2@gmail.com|                       test2@gmail.com|\n",
            "| test3@gmail.com|                       test3@gmail.com|\n",
            "| test4@gmail.com|                       test4@gmail.com|\n",
            "| test5@gmail.com|                       test5@gmail.com|\n",
            "| test6@gmail.com|                       test6@gmail.com|\n",
            "| test7@gmail.com|                       test7@gmail.com|\n",
            "| test8@gmail.com|                       test8@gmail.com|\n",
            "| test9@gmail.com|                       test9@gmail.com|\n",
            "|test10@gmail.com|                      test10@gmail.com|\n",
            "|test11@gmail.com|                      test11@gmail.com|\n",
            "|test12@gmail.com|                      test12@gmail.com|\n",
            "|test13@gmail.com|                      test13@gmail.com|\n",
            "|test14@gmail.com|                      test14@gmail.com|\n",
            "|test15@gmail.com|                      test15@gmail.com|\n",
            "|test16@gmail.com|                      test16@gmail.com|\n",
            "|test17@gmail.com|                      test17@gmail.com|\n",
            "|test18@gmail.com|                      test18@gmail.com|\n",
            "|test19@gmail.com|                      test19@gmail.com|\n",
            "|test20@gmail.com|                      test20@gmail.com|\n",
            "+----------------+--------------------------------------+\n",
            "only showing top 20 rows\n",
            "\n"
          ]
        }
      ]
    },
    {
      "cell_type": "code",
      "source": [
        "task_df.count()"
      ],
      "metadata": {
        "colab": {
          "base_uri": "https://localhost:8080/"
        },
        "id": "V2l5NjsUuiNF",
        "outputId": "27c52fed-97a6-4ae4-be2d-dcd520997570"
      },
      "execution_count": null,
      "outputs": [
        {
          "output_type": "execute_result",
          "data": {
            "text/plain": [
              "901"
            ]
          },
          "metadata": {},
          "execution_count": 24
        }
      ]
    },
    {
      "cell_type": "code",
      "source": [
        "task_df = task_df.dropDuplicates()"
      ],
      "metadata": {
        "id": "sKHega9qtfJp"
      },
      "execution_count": null,
      "outputs": []
    },
    {
      "cell_type": "code",
      "source": [
        "task_df.count()"
      ],
      "metadata": {
        "colab": {
          "base_uri": "https://localhost:8080/"
        },
        "id": "kpAGL0sBuY-T",
        "outputId": "d91fa034-4166-4f61-f898-e351a06aeb3c"
      },
      "execution_count": null,
      "outputs": [
        {
          "output_type": "execute_result",
          "data": {
            "text/plain": [
              "900"
            ]
          },
          "metadata": {},
          "execution_count": 26
        }
      ]
    },
    {
      "cell_type": "code",
      "source": [
        ""
      ],
      "metadata": {
        "id": "eY7bv8Kduhaj"
      },
      "execution_count": null,
      "outputs": []
    }
  ]
}