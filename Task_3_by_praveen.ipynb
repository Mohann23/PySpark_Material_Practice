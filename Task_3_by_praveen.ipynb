{
  "nbformat": 4,
  "nbformat_minor": 0,
  "metadata": {
    "colab": {
      "name": "Task_3_by_praveen.ipynb",
      "provenance": [],
      "collapsed_sections": [],
      "authorship_tag": "ABX9TyOpf1TEbs7U1HlbqX1O4tl9",
      "include_colab_link": true
    },
    "kernelspec": {
      "name": "python3",
      "display_name": "Python 3"
    },
    "language_info": {
      "name": "python"
    }
  },
  "cells": [
    {
      "cell_type": "markdown",
      "metadata": {
        "id": "view-in-github",
        "colab_type": "text"
      },
      "source": [
        "<a href=\"https://colab.research.google.com/github/Mohann23/PySpark_Material_Practice/blob/master/Task_3_by_praveen.ipynb\" target=\"_parent\"><img src=\"https://colab.research.google.com/assets/colab-badge.svg\" alt=\"Open In Colab\"/></a>"
      ]
    },
    {
      "cell_type": "code",
      "execution_count": 14,
      "metadata": {
        "id": "Gp_M-ynOp4Xx",
        "colab": {
          "base_uri": "https://localhost:8080/"
        },
        "outputId": "7d372077-1df8-43ee-aeed-cef8f8e550b3"
      },
      "outputs": [
        {
          "output_type": "stream",
          "name": "stdout",
          "text": [
            "Drive already mounted at /content/drive; to attempt to forcibly remount, call drive.mount(\"/content/drive\", force_remount=True).\n"
          ]
        }
      ],
      "source": [
        "from google.colab import drive\n",
        "drive.mount('/content/drive')\n",
        "\n",
        "!apt-get install openjdk-8-jdk-headless -qq > /dev/null\n",
        "\n",
        "\n",
        "!wget -q https://dlcdn.apache.org/spark/spark-3.2.1/spark-3.2.1-bin-hadoop3.2.tgz\n",
        "\n",
        "\n",
        "\n",
        "!tar xf spark-3.2.1-bin-hadoop3.2.tgz\n",
        "\n",
        "!pip install -q findspark\n",
        "\n",
        "import os\n",
        "os.environ[\"JAVA_HOME\"] = \"/usr/lib/jvm/java-8-openjdk-amd64\"\n",
        "os.environ[\"SPARK_HOME\"] = \"/content/spark-3.2.1-bin-hadoop3.2\"\n",
        "\n",
        "import findspark\n",
        "findspark.init()\n",
        "\n",
        "findspark.find()\n",
        "from pyspark.sql import *\n",
        "from pyspark.sql.functions import *\n",
        "from pyspark.sql.types import *"
      ]
    },
    {
      "cell_type": "code",
      "source": [
        "spark = SparkSession.builder.appName('Day_3_task').getOrCreate()"
      ],
      "metadata": {
        "id": "IUMo7Q4dqvhu"
      },
      "execution_count": 2,
      "outputs": []
    },
    {
      "cell_type": "code",
      "source": [
        "task_df = spark.read.csv('/content/drive/MyDrive/PYSpark_Files/Day_3_task_3_File.csv', inferSchema = True, header = True)"
      ],
      "metadata": {
        "id": "CzzGzD2Xq6yN"
      },
      "execution_count": 4,
      "outputs": []
    },
    {
      "cell_type": "code",
      "source": [
        "task_df.show()"
      ],
      "metadata": {
        "colab": {
          "base_uri": "https://localhost:8080/"
        },
        "id": "oTJxA2Eqsp-D",
        "outputId": "ad4ae694-2baf-4402-c7f1-62ef1c7d85f8"
      },
      "execution_count": 5,
      "outputs": [
        {
          "output_type": "stream",
          "name": "stdout",
          "text": [
            "+------+----------------+----------+------+-----------+\n",
            "|userid|         emailid|      date|amount|   discount|\n",
            "+------+----------------+----------+------+-----------+\n",
            "|     1| test1@gmail.com|01-01-2019|   100|        1.0|\n",
            "|     2| test2@gmail.com|02-01-2019|   100|        1.0|\n",
            "|     3| test3@gmail.com|03-01-2019|   101|        2.0|\n",
            "|     4| test4@gmail.com|04-01-2019|   102|       10.0|\n",
            "|     5| test5@gmail.com|05-01-2019| 102.5|        2.0|\n",
            "|     6| test6@gmail.com|06-01-2019| 103.2|        1.0|\n",
            "|     7| test7@gmail.com|07-01-2019| 103.9|        3.0|\n",
            "|     8| test8@gmail.com|08-01-2019| 104.6|        5.0|\n",
            "|     9| test9@gmail.com|09-01-2019| 105.3|4.571428571|\n",
            "|    10|test10@gmail.com|10-01-2019|   106|4.892857143|\n",
            "|    11|test11@gmail.com|11-01-2019| 106.7|5.214285714|\n",
            "|    12|test12@gmail.com|12-01-2019| 107.4|5.535714286|\n",
            "|    13|test13@gmail.com|13-01-2019| 108.1|5.857142857|\n",
            "|    14|test14@gmail.com|14-01-2019| 108.8|6.178571429|\n",
            "|    15|test15@gmail.com|15-01-2019| 109.5|        6.5|\n",
            "|    16|test16@gmail.com|16-01-2019| 110.2|6.821428571|\n",
            "|    17|test17@gmail.com|17-01-2019| 110.9|7.142857143|\n",
            "|    18|test18@gmail.com|18-01-2019| 111.6|7.464285714|\n",
            "|    19|test19@gmail.com|19-01-2019| 112.3|7.785714286|\n",
            "|    20|test20@gmail.com|20-01-2019|   113|8.107142857|\n",
            "+------+----------------+----------+------+-----------+\n",
            "only showing top 20 rows\n",
            "\n"
          ]
        }
      ]
    },
    {
      "cell_type": "code",
      "source": [
        "task_df.count()"
      ],
      "metadata": {
        "colab": {
          "base_uri": "https://localhost:8080/"
        },
        "id": "-WAyNz-0VvQV",
        "outputId": "38d21aed-204a-4c34-c2bb-7e45703ad746"
      },
      "execution_count": 6,
      "outputs": [
        {
          "output_type": "execute_result",
          "data": {
            "text/plain": [
              "902"
            ]
          },
          "metadata": {},
          "execution_count": 6
        }
      ]
    },
    {
      "cell_type": "code",
      "source": [
        "task_df_before = task_df.filter(task_df.date == \"null\")\n",
        "task_df_before.show()"
      ],
      "metadata": {
        "colab": {
          "base_uri": "https://localhost:8080/"
        },
        "id": "NEJ95xKSWbOO",
        "outputId": "6adfb484-15f6-4fb4-bfbd-362231df59b5"
      },
      "execution_count": 7,
      "outputs": [
        {
          "output_type": "stream",
          "name": "stdout",
          "text": [
            "+------+----------------+----+------+--------+\n",
            "|userid|         emailid|date|amount|discount|\n",
            "+------+----------------+----+------+--------+\n",
            "|    78|test78@gmail.com|null| 258.6|   26.75|\n",
            "+------+----------------+----+------+--------+\n",
            "\n"
          ]
        }
      ]
    },
    {
      "cell_type": "code",
      "source": [
        "#1st remove null values\n",
        "#Here we use a inbuild function to drop the null values \n",
        "#here we are reassigning the variable name as task so that we don't we don't have any confussion\n",
        "task_df = task_df.dropna()"
      ],
      "metadata": {
        "id": "gKHtN2b1rooN"
      },
      "execution_count": 9,
      "outputs": []
    },
    {
      "cell_type": "code",
      "source": [
        "task_df.count()"
      ],
      "metadata": {
        "colab": {
          "base_uri": "https://localhost:8080/"
        },
        "id": "Gh4SN8B6Vt3Y",
        "outputId": "5acedbd8-71a6-4181-d107-5b7d5fbee9dd"
      },
      "execution_count": 10,
      "outputs": [
        {
          "output_type": "execute_result",
          "data": {
            "text/plain": [
              "901"
            ]
          },
          "metadata": {},
          "execution_count": 10
        }
      ]
    },
    {
      "cell_type": "code",
      "source": [
        "task_df.show()"
      ],
      "metadata": {
        "colab": {
          "base_uri": "https://localhost:8080/"
        },
        "id": "WgJbVVneV044",
        "outputId": "bc0bb84c-4bc2-4dca-bc04-a93452ae20b1"
      },
      "execution_count": 11,
      "outputs": [
        {
          "output_type": "stream",
          "name": "stdout",
          "text": [
            "+------+----------------+----------+------+-----------+\n",
            "|userid|         emailid|      date|amount|   discount|\n",
            "+------+----------------+----------+------+-----------+\n",
            "|     1| test1@gmail.com|01-01-2019|   100|        1.0|\n",
            "|     2| test2@gmail.com|02-01-2019|   100|        1.0|\n",
            "|     3| test3@gmail.com|03-01-2019|   101|        2.0|\n",
            "|     4| test4@gmail.com|04-01-2019|   102|       10.0|\n",
            "|     5| test5@gmail.com|05-01-2019| 102.5|        2.0|\n",
            "|     6| test6@gmail.com|06-01-2019| 103.2|        1.0|\n",
            "|     7| test7@gmail.com|07-01-2019| 103.9|        3.0|\n",
            "|     8| test8@gmail.com|08-01-2019| 104.6|        5.0|\n",
            "|     9| test9@gmail.com|09-01-2019| 105.3|4.571428571|\n",
            "|    10|test10@gmail.com|10-01-2019|   106|4.892857143|\n",
            "|    11|test11@gmail.com|11-01-2019| 106.7|5.214285714|\n",
            "|    12|test12@gmail.com|12-01-2019| 107.4|5.535714286|\n",
            "|    13|test13@gmail.com|13-01-2019| 108.1|5.857142857|\n",
            "|    14|test14@gmail.com|14-01-2019| 108.8|6.178571429|\n",
            "|    15|test15@gmail.com|15-01-2019| 109.5|        6.5|\n",
            "|    16|test16@gmail.com|16-01-2019| 110.2|6.821428571|\n",
            "|    17|test17@gmail.com|17-01-2019| 110.9|7.142857143|\n",
            "|    18|test18@gmail.com|18-01-2019| 111.6|7.464285714|\n",
            "|    19|test19@gmail.com|19-01-2019| 112.3|7.785714286|\n",
            "|    20|test20@gmail.com|20-01-2019|   113|8.107142857|\n",
            "+------+----------------+----------+------+-----------+\n",
            "only showing top 20 rows\n",
            "\n"
          ]
        }
      ]
    },
    {
      "cell_type": "code",
      "source": [
        "non_df = task_df.filter(task_df.userid == 'null')"
      ],
      "metadata": {
        "id": "F-akg60NW4aC"
      },
      "execution_count": 12,
      "outputs": []
    },
    {
      "cell_type": "code",
      "source": [
        "from datetime import datetime\n",
        "def func_date(str1):\n",
        "  for fmt in ('%Y-%m-%d', '%d.%m.%Y', '%d/%m/%Y','%d-%m-%Y','%dd-%mm-%yyyy'):\n",
        "    try:\n",
        "      date_object =  datetime.strptime(str1, fmt)\n",
        "      converted_date = date_object.strftime('%Y-%m-%d')\n",
        "      return converted_date\n",
        "    except ValueError:\n",
        "      pass\n",
        "  raise ValueError('no valid date format found')\n",
        "\n"
      ],
      "metadata": {
        "id": "BLS6H8YcjriU"
      },
      "execution_count": 29,
      "outputs": []
    },
    {
      "cell_type": "code",
      "source": [
        "date_udf = udf(lambda str1: func_date(str1))"
      ],
      "metadata": {
        "id": "wDLHxI5EjrS_"
      },
      "execution_count": 30,
      "outputs": []
    },
    {
      "cell_type": "code",
      "source": [
        "date_change = task_df.select(col('date'),date_udf(col('date').alias(\"Updated_date\")))"
      ],
      "metadata": {
        "id": "WBWREk7oV-3Y"
      },
      "execution_count": 34,
      "outputs": []
    },
    {
      "cell_type": "code",
      "source": [
        "date_change.show()"
      ],
      "metadata": {
        "id": "unB50vhmQyve",
        "colab": {
          "base_uri": "https://localhost:8080/"
        },
        "outputId": "dd958d12-99de-438b-945c-a5dc3c7e0e08"
      },
      "execution_count": 35,
      "outputs": [
        {
          "output_type": "stream",
          "name": "stdout",
          "text": [
            "+----------+------------------------------+\n",
            "|      date|<lambda>(date AS Updated_date)|\n",
            "+----------+------------------------------+\n",
            "|01-01-2019|                    2019-01-01|\n",
            "|02-01-2019|                    2019-01-02|\n",
            "|03-01-2019|                    2019-01-03|\n",
            "|04-01-2019|                    2019-01-04|\n",
            "|05-01-2019|                    2019-01-05|\n",
            "|06-01-2019|                    2019-01-06|\n",
            "|07-01-2019|                    2019-01-07|\n",
            "|08-01-2019|                    2019-01-08|\n",
            "|09-01-2019|                    2019-01-09|\n",
            "|10-01-2019|                    2019-01-10|\n",
            "|11-01-2019|                    2019-01-11|\n",
            "|12-01-2019|                    2019-01-12|\n",
            "|13-01-2019|                    2019-01-13|\n",
            "|14-01-2019|                    2019-01-14|\n",
            "|15-01-2019|                    2019-01-15|\n",
            "|16-01-2019|                    2019-01-16|\n",
            "|17-01-2019|                    2019-01-17|\n",
            "|18-01-2019|                    2019-01-18|\n",
            "|19-01-2019|                    2019-01-19|\n",
            "|20-01-2019|                    2019-01-20|\n",
            "+----------+------------------------------+\n",
            "only showing top 20 rows\n",
            "\n"
          ]
        }
      ]
    },
    {
      "cell_type": "code",
      "source": [
        "pip install validate_email"
      ],
      "metadata": {
        "colab": {
          "base_uri": "https://localhost:8080/"
        },
        "id": "mwVZEYLtruQD",
        "outputId": "3ca66537-90ab-432a-e149-009244166945"
      },
      "execution_count": 39,
      "outputs": [
        {
          "output_type": "stream",
          "name": "stdout",
          "text": [
            "Looking in indexes: https://pypi.org/simple, https://us-python.pkg.dev/colab-wheels/public/simple/\n",
            "Collecting validate_email\n",
            "  Downloading validate_email-1.3.tar.gz (4.7 kB)\n",
            "Building wheels for collected packages: validate-email\n",
            "  Building wheel for validate-email (setup.py) ... \u001b[?25l\u001b[?25hdone\n",
            "  Created wheel for validate-email: filename=validate_email-1.3-py3-none-any.whl size=5482 sha256=19795248892ae255a6e97c74e2b6c6cd8c02d5aa99a08a2b8e0f8335891e726e\n",
            "  Stored in directory: /root/.cache/pip/wheels/ff/8f/92/c43287715852eaa75e0d8aa1941c481072b4a82c4f4975074e\n",
            "Successfully built validate-email\n",
            "Installing collected packages: validate-email\n",
            "Successfully installed validate-email-1.3\n"
          ]
        }
      ]
    },
    {
      "cell_type": "code",
      "source": [
        "from validate_email import validate_email\n",
        "is_valid = validate_email(\"mohan@mohan.com\")"
      ],
      "metadata": {
        "id": "qpuUbxdRrAqR"
      },
      "execution_count": 41,
      "outputs": []
    },
    {
      "cell_type": "code",
      "source": [
        "def email_validation(str1):\n",
        "  is_valid = validate_email(str1)\n",
        "  if is_valid:\n",
        "    return str1\n",
        "  else:\n",
        "    \"error\"\n"
      ],
      "metadata": {
        "id": "lCkMu6TgrVfm"
      },
      "execution_count": 43,
      "outputs": []
    },
    {
      "cell_type": "code",
      "source": [
        "email_validation_udf = udf(lambda x : email_validation(x))"
      ],
      "metadata": {
        "id": "2EWjTGnhsm8r"
      },
      "execution_count": 44,
      "outputs": []
    },
    {
      "cell_type": "code",
      "source": [
        "email_correction = task_df.select(col('emailid'),email_validation_udf(col('emailid').alias('emailid_validated')))"
      ],
      "metadata": {
        "id": "Tf9rhtIvs9gS"
      },
      "execution_count": 45,
      "outputs": []
    },
    {
      "cell_type": "code",
      "source": [
        "email_correction.show()"
      ],
      "metadata": {
        "colab": {
          "base_uri": "https://localhost:8080/"
        },
        "id": "Iof9LPGktdDx",
        "outputId": "2172a30a-8fd1-4388-8cc4-0f89bd4f7b13"
      },
      "execution_count": 46,
      "outputs": [
        {
          "output_type": "stream",
          "name": "stdout",
          "text": [
            "+----------------+--------------------------------------+\n",
            "|         emailid|<lambda>(emailid AS emailid_validated)|\n",
            "+----------------+--------------------------------------+\n",
            "| test1@gmail.com|                       test1@gmail.com|\n",
            "| test2@gmail.com|                       test2@gmail.com|\n",
            "| test3@gmail.com|                       test3@gmail.com|\n",
            "| test4@gmail.com|                       test4@gmail.com|\n",
            "| test5@gmail.com|                       test5@gmail.com|\n",
            "| test6@gmail.com|                       test6@gmail.com|\n",
            "| test7@gmail.com|                       test7@gmail.com|\n",
            "| test8@gmail.com|                       test8@gmail.com|\n",
            "| test9@gmail.com|                       test9@gmail.com|\n",
            "|test10@gmail.com|                      test10@gmail.com|\n",
            "|test11@gmail.com|                      test11@gmail.com|\n",
            "|test12@gmail.com|                      test12@gmail.com|\n",
            "|test13@gmail.com|                      test13@gmail.com|\n",
            "|test14@gmail.com|                      test14@gmail.com|\n",
            "|test15@gmail.com|                      test15@gmail.com|\n",
            "|test16@gmail.com|                      test16@gmail.com|\n",
            "|test17@gmail.com|                      test17@gmail.com|\n",
            "|test18@gmail.com|                      test18@gmail.com|\n",
            "|test19@gmail.com|                      test19@gmail.com|\n",
            "|test20@gmail.com|                      test20@gmail.com|\n",
            "+----------------+--------------------------------------+\n",
            "only showing top 20 rows\n",
            "\n"
          ]
        }
      ]
    },
    {
      "cell_type": "code",
      "source": [
        ""
      ],
      "metadata": {
        "id": "sKHega9qtfJp"
      },
      "execution_count": null,
      "outputs": []
    }
  ]
}