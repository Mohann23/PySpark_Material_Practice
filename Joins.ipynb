{
  "nbformat": 4,
  "nbformat_minor": 0,
  "metadata": {
    "colab": {
      "name": "Joins.ipynb",
      "provenance": [],
      "collapsed_sections": [],
      "authorship_tag": "ABX9TyO25rg+HEWDGMEIySR9qB7z",
      "include_colab_link": true
    },
    "kernelspec": {
      "name": "python3",
      "display_name": "Python 3"
    },
    "language_info": {
      "name": "python"
    }
  },
  "cells": [
    {
      "cell_type": "markdown",
      "metadata": {
        "id": "view-in-github",
        "colab_type": "text"
      },
      "source": [
        "<a href=\"https://colab.research.google.com/github/Mohann23/PySpark_Material_Practice/blob/master/Joins.ipynb\" target=\"_parent\"><img src=\"https://colab.research.google.com/assets/colab-badge.svg\" alt=\"Open In Colab\"/></a>"
      ]
    },
    {
      "cell_type": "code",
      "execution_count": 1,
      "metadata": {
        "colab": {
          "base_uri": "https://localhost:8080/"
        },
        "id": "PuE_KRFg0Pod",
        "outputId": "23e22ee3-b2cc-43da-9f7c-b42818df87ed"
      },
      "outputs": [
        {
          "output_type": "stream",
          "name": "stdout",
          "text": [
            "Mounted at /content/drive\n"
          ]
        }
      ],
      "source": [
        "from google.colab import drive\n",
        "drive.mount('/content/drive')\n",
        "\n",
        "!apt-get install openjdk-8-jdk-headless -qq > /dev/null\n",
        "\n",
        "\n",
        "!wget -q https://dlcdn.apache.org/spark/spark-3.2.1/spark-3.2.1-bin-hadoop3.2.tgz\n",
        "\n",
        "\n",
        "\n",
        "!tar xf spark-3.2.1-bin-hadoop3.2.tgz\n",
        "\n",
        "!pip install -q findspark\n",
        "\n",
        "import os\n",
        "os.environ[\"JAVA_HOME\"] = \"/usr/lib/jvm/java-8-openjdk-amd64\"\n",
        "os.environ[\"SPARK_HOME\"] = \"/content/spark-3.2.1-bin-hadoop3.2\"\n",
        "\n",
        "import findspark\n",
        "findspark.init()\n",
        "\n",
        "findspark.find()\n",
        "from pyspark.sql import *\n",
        "from pyspark.sql.functions import *\n",
        "from pyspark.sql.types import *"
      ]
    },
    {
      "cell_type": "code",
      "source": [
        "spark = SparkSession.builder.appName('Joins').getOrCreate()"
      ],
      "metadata": {
        "id": "4f5sp7UH0f8m"
      },
      "execution_count": 2,
      "outputs": []
    },
    {
      "cell_type": "code",
      "source": [
        "join_1_df = spark.read.csv('/content/drive/MyDrive/PYSpark_Files/join_table.csv',inferSchema=True,header=True)"
      ],
      "metadata": {
        "id": "ljSAadt00_8Z"
      },
      "execution_count": 3,
      "outputs": []
    },
    {
      "cell_type": "code",
      "source": [
        "join_1_df.show()"
      ],
      "metadata": {
        "colab": {
          "base_uri": "https://localhost:8080/"
        },
        "id": "604gteKd14TP",
        "outputId": "caaec70c-7b29-4ef9-e91a-e1621cb5a0b3"
      },
      "execution_count": 4,
      "outputs": [
        {
          "output_type": "stream",
          "name": "stdout",
          "text": [
            "+---+-------+----------+----------+------+------+\n",
            "| Id| Period|Data_value|Suppressed|STATUS| UNITS|\n",
            "+---+-------+----------+----------+------+------+\n",
            "|  1|2011.06|     80078|      null|     F|Number|\n",
            "|  2|2011.09|     78324|      null|     F|Number|\n",
            "|  3|2011.12|     85850|      null|     F|Number|\n",
            "|  4|2012.03|     90743|      null|     F|Number|\n",
            "|  5|2012.06|     81780|      null|     F|Number|\n",
            "|  6|2012.09|     79261|      null|     F|Number|\n",
            "|  7|2012.12|     87793|      null|     F|Number|\n",
            "|  8|2013.03|     91571|      null|     F|Number|\n",
            "|  9|2013.06|     81687|      null|     F|Number|\n",
            "| 10|2013.09|     81471|      null|     F|Number|\n",
            "| 11|2013.12|     93950|      null|     F|Number|\n",
            "| 12|2014.03|     97208|      null|     F|Number|\n",
            "| 13|2014.06|     85879|      null|     F|Number|\n",
            "| 14|2014.09|     84447|      null|     F|Number|\n",
            "+---+-------+----------+----------+------+------+\n",
            "\n"
          ]
        }
      ]
    },
    {
      "cell_type": "code",
      "source": [
        "join_2_df = spark.read.csv('/content/drive/MyDrive/PYSpark_Files/join_table2.csv',inferSchema=True,header=True)"
      ],
      "metadata": {
        "id": "v2OrmLg2176i"
      },
      "execution_count": 5,
      "outputs": []
    },
    {
      "cell_type": "code",
      "source": [
        "join_2_df.show()"
      ],
      "metadata": {
        "colab": {
          "base_uri": "https://localhost:8080/"
        },
        "id": "-7WOmb452NB7",
        "outputId": "16de40fa-35a2-4a83-b027-6d6c1848d0c9"
      },
      "execution_count": 6,
      "outputs": [
        {
          "output_type": "stream",
          "name": "stdout",
          "text": [
            "+---+-----+----+------------------+\n",
            "| Id| Year| Age|              Name|\n",
            "+---+-----+----+------------------+\n",
            "|  1| 1928|  22|      Janet Gaynor|\n",
            "|  2| 1929|  37|     Mary Pickford|\n",
            "|  3| 1930|  28|     Norma Shearer|\n",
            "|  4| 1931|  63|    Marie Dressler|\n",
            "|  5| 1932|  32|       Helen Hayes|\n",
            "|  6| 1933|  26| Katharine Hepburn|\n",
            "|  7| 1934|  31| Claudette Colbert|\n",
            "|  8| 1935|  27|       Bette Davis|\n",
            "|  9| 1936|  27|      Luise Rainer|\n",
            "| 10| 1937|  28|      Luise Rainer|\n",
            "| 11| 1938|  30|       Bette Davis|\n",
            "| 12| 1939|  26|      Vivien Leigh|\n",
            "| 13| 1940|  29|     Ginger Rogers|\n",
            "| 14| 1941|  24|     Joan Fontaine|\n",
            "+---+-----+----+------------------+\n",
            "\n"
          ]
        }
      ]
    },
    {
      "cell_type": "code",
      "source": [
        "join_1_df.join(join_2_df,join_1_df.Id==join_2_df.Id,'inner').show()"
      ],
      "metadata": {
        "colab": {
          "base_uri": "https://localhost:8080/"
        },
        "id": "DYBkEng32Rlg",
        "outputId": "4f934340-ac38-46ef-c50b-ada890c839e3"
      },
      "execution_count": 7,
      "outputs": [
        {
          "output_type": "stream",
          "name": "stdout",
          "text": [
            "+---+-------+----------+----------+------+------+---+-----+----+------------------+\n",
            "| Id| Period|Data_value|Suppressed|STATUS| UNITS| Id| Year| Age|              Name|\n",
            "+---+-------+----------+----------+------+------+---+-----+----+------------------+\n",
            "|  1|2011.06|     80078|      null|     F|Number|  1| 1928|  22|      Janet Gaynor|\n",
            "|  2|2011.09|     78324|      null|     F|Number|  2| 1929|  37|     Mary Pickford|\n",
            "|  3|2011.12|     85850|      null|     F|Number|  3| 1930|  28|     Norma Shearer|\n",
            "|  4|2012.03|     90743|      null|     F|Number|  4| 1931|  63|    Marie Dressler|\n",
            "|  5|2012.06|     81780|      null|     F|Number|  5| 1932|  32|       Helen Hayes|\n",
            "|  6|2012.09|     79261|      null|     F|Number|  6| 1933|  26| Katharine Hepburn|\n",
            "|  7|2012.12|     87793|      null|     F|Number|  7| 1934|  31| Claudette Colbert|\n",
            "|  8|2013.03|     91571|      null|     F|Number|  8| 1935|  27|       Bette Davis|\n",
            "|  9|2013.06|     81687|      null|     F|Number|  9| 1936|  27|      Luise Rainer|\n",
            "| 10|2013.09|     81471|      null|     F|Number| 10| 1937|  28|      Luise Rainer|\n",
            "| 11|2013.12|     93950|      null|     F|Number| 11| 1938|  30|       Bette Davis|\n",
            "| 12|2014.03|     97208|      null|     F|Number| 12| 1939|  26|      Vivien Leigh|\n",
            "| 13|2014.06|     85879|      null|     F|Number| 13| 1940|  29|     Ginger Rogers|\n",
            "| 14|2014.09|     84447|      null|     F|Number| 14| 1941|  24|     Joan Fontaine|\n",
            "+---+-------+----------+----------+------+------+---+-----+----+------------------+\n",
            "\n"
          ]
        }
      ]
    },
    {
      "cell_type": "code",
      "source": [
        "join_1_df.join(join_2_df,join_1_df.Id==join_2_df.Id,'cross').show()"
      ],
      "metadata": {
        "colab": {
          "base_uri": "https://localhost:8080/"
        },
        "id": "5Pmzui-QMVGV",
        "outputId": "224315a1-99e9-46ff-b74b-90edf940bf2b"
      },
      "execution_count": 9,
      "outputs": [
        {
          "output_type": "stream",
          "name": "stdout",
          "text": [
            "+---+-------+----------+----------+------+------+---+-----+----+------------------+\n",
            "| Id| Period|Data_value|Suppressed|STATUS| UNITS| Id| Year| Age|              Name|\n",
            "+---+-------+----------+----------+------+------+---+-----+----+------------------+\n",
            "|  1|2011.06|     80078|      null|     F|Number|  1| 1928|  22|      Janet Gaynor|\n",
            "|  2|2011.09|     78324|      null|     F|Number|  2| 1929|  37|     Mary Pickford|\n",
            "|  3|2011.12|     85850|      null|     F|Number|  3| 1930|  28|     Norma Shearer|\n",
            "|  4|2012.03|     90743|      null|     F|Number|  4| 1931|  63|    Marie Dressler|\n",
            "|  5|2012.06|     81780|      null|     F|Number|  5| 1932|  32|       Helen Hayes|\n",
            "|  6|2012.09|     79261|      null|     F|Number|  6| 1933|  26| Katharine Hepburn|\n",
            "|  7|2012.12|     87793|      null|     F|Number|  7| 1934|  31| Claudette Colbert|\n",
            "|  8|2013.03|     91571|      null|     F|Number|  8| 1935|  27|       Bette Davis|\n",
            "|  9|2013.06|     81687|      null|     F|Number|  9| 1936|  27|      Luise Rainer|\n",
            "| 10|2013.09|     81471|      null|     F|Number| 10| 1937|  28|      Luise Rainer|\n",
            "| 11|2013.12|     93950|      null|     F|Number| 11| 1938|  30|       Bette Davis|\n",
            "| 12|2014.03|     97208|      null|     F|Number| 12| 1939|  26|      Vivien Leigh|\n",
            "| 13|2014.06|     85879|      null|     F|Number| 13| 1940|  29|     Ginger Rogers|\n",
            "| 14|2014.09|     84447|      null|     F|Number| 14| 1941|  24|     Joan Fontaine|\n",
            "+---+-------+----------+----------+------+------+---+-----+----+------------------+\n",
            "\n"
          ]
        }
      ]
    },
    {
      "cell_type": "code",
      "source": [
        "join_1_df.join(join_2_df,join_1_df.Id==join_2_df.Id,'outer').show()"
      ],
      "metadata": {
        "colab": {
          "base_uri": "https://localhost:8080/"
        },
        "id": "_SapmYZJWkwb",
        "outputId": "3f75fd30-e7ce-47be-efb3-2ebc0857bf2f"
      },
      "execution_count": 10,
      "outputs": [
        {
          "output_type": "stream",
          "name": "stdout",
          "text": [
            "+---+-------+----------+----------+------+------+---+-----+----+------------------+\n",
            "| Id| Period|Data_value|Suppressed|STATUS| UNITS| Id| Year| Age|              Name|\n",
            "+---+-------+----------+----------+------+------+---+-----+----+------------------+\n",
            "|  1|2011.06|     80078|      null|     F|Number|  1| 1928|  22|      Janet Gaynor|\n",
            "|  2|2011.09|     78324|      null|     F|Number|  2| 1929|  37|     Mary Pickford|\n",
            "|  3|2011.12|     85850|      null|     F|Number|  3| 1930|  28|     Norma Shearer|\n",
            "|  4|2012.03|     90743|      null|     F|Number|  4| 1931|  63|    Marie Dressler|\n",
            "|  5|2012.06|     81780|      null|     F|Number|  5| 1932|  32|       Helen Hayes|\n",
            "|  6|2012.09|     79261|      null|     F|Number|  6| 1933|  26| Katharine Hepburn|\n",
            "|  7|2012.12|     87793|      null|     F|Number|  7| 1934|  31| Claudette Colbert|\n",
            "|  8|2013.03|     91571|      null|     F|Number|  8| 1935|  27|       Bette Davis|\n",
            "|  9|2013.06|     81687|      null|     F|Number|  9| 1936|  27|      Luise Rainer|\n",
            "| 10|2013.09|     81471|      null|     F|Number| 10| 1937|  28|      Luise Rainer|\n",
            "| 11|2013.12|     93950|      null|     F|Number| 11| 1938|  30|       Bette Davis|\n",
            "| 12|2014.03|     97208|      null|     F|Number| 12| 1939|  26|      Vivien Leigh|\n",
            "| 13|2014.06|     85879|      null|     F|Number| 13| 1940|  29|     Ginger Rogers|\n",
            "| 14|2014.09|     84447|      null|     F|Number| 14| 1941|  24|     Joan Fontaine|\n",
            "+---+-------+----------+----------+------+------+---+-----+----+------------------+\n",
            "\n"
          ]
        }
      ]
    },
    {
      "cell_type": "code",
      "source": [
        "join_1_df.join(join_2_df,join_1_df.Id==join_2_df.Id,'full').show()"
      ],
      "metadata": {
        "colab": {
          "base_uri": "https://localhost:8080/"
        },
        "id": "9_lgZYmNWq3h",
        "outputId": "d48f322c-bbde-4db5-e204-9a9f8ece3a9f"
      },
      "execution_count": 11,
      "outputs": [
        {
          "output_type": "stream",
          "name": "stdout",
          "text": [
            "+---+-------+----------+----------+------+------+---+-----+----+------------------+\n",
            "| Id| Period|Data_value|Suppressed|STATUS| UNITS| Id| Year| Age|              Name|\n",
            "+---+-------+----------+----------+------+------+---+-----+----+------------------+\n",
            "|  1|2011.06|     80078|      null|     F|Number|  1| 1928|  22|      Janet Gaynor|\n",
            "|  2|2011.09|     78324|      null|     F|Number|  2| 1929|  37|     Mary Pickford|\n",
            "|  3|2011.12|     85850|      null|     F|Number|  3| 1930|  28|     Norma Shearer|\n",
            "|  4|2012.03|     90743|      null|     F|Number|  4| 1931|  63|    Marie Dressler|\n",
            "|  5|2012.06|     81780|      null|     F|Number|  5| 1932|  32|       Helen Hayes|\n",
            "|  6|2012.09|     79261|      null|     F|Number|  6| 1933|  26| Katharine Hepburn|\n",
            "|  7|2012.12|     87793|      null|     F|Number|  7| 1934|  31| Claudette Colbert|\n",
            "|  8|2013.03|     91571|      null|     F|Number|  8| 1935|  27|       Bette Davis|\n",
            "|  9|2013.06|     81687|      null|     F|Number|  9| 1936|  27|      Luise Rainer|\n",
            "| 10|2013.09|     81471|      null|     F|Number| 10| 1937|  28|      Luise Rainer|\n",
            "| 11|2013.12|     93950|      null|     F|Number| 11| 1938|  30|       Bette Davis|\n",
            "| 12|2014.03|     97208|      null|     F|Number| 12| 1939|  26|      Vivien Leigh|\n",
            "| 13|2014.06|     85879|      null|     F|Number| 13| 1940|  29|     Ginger Rogers|\n",
            "| 14|2014.09|     84447|      null|     F|Number| 14| 1941|  24|     Joan Fontaine|\n",
            "+---+-------+----------+----------+------+------+---+-----+----+------------------+\n",
            "\n"
          ]
        }
      ]
    },
    {
      "cell_type": "code",
      "source": [
        "join_1_df.join(join_2_df,join_1_df.Id==join_2_df.Id,'fullouter').show()"
      ],
      "metadata": {
        "colab": {
          "base_uri": "https://localhost:8080/"
        },
        "id": "ni-IcVjeW0yr",
        "outputId": "7ec03d76-1b50-4336-8665-ccb5777aa7e6"
      },
      "execution_count": 12,
      "outputs": [
        {
          "output_type": "stream",
          "name": "stdout",
          "text": [
            "+---+-------+----------+----------+------+------+---+-----+----+------------------+\n",
            "| Id| Period|Data_value|Suppressed|STATUS| UNITS| Id| Year| Age|              Name|\n",
            "+---+-------+----------+----------+------+------+---+-----+----+------------------+\n",
            "|  1|2011.06|     80078|      null|     F|Number|  1| 1928|  22|      Janet Gaynor|\n",
            "|  2|2011.09|     78324|      null|     F|Number|  2| 1929|  37|     Mary Pickford|\n",
            "|  3|2011.12|     85850|      null|     F|Number|  3| 1930|  28|     Norma Shearer|\n",
            "|  4|2012.03|     90743|      null|     F|Number|  4| 1931|  63|    Marie Dressler|\n",
            "|  5|2012.06|     81780|      null|     F|Number|  5| 1932|  32|       Helen Hayes|\n",
            "|  6|2012.09|     79261|      null|     F|Number|  6| 1933|  26| Katharine Hepburn|\n",
            "|  7|2012.12|     87793|      null|     F|Number|  7| 1934|  31| Claudette Colbert|\n",
            "|  8|2013.03|     91571|      null|     F|Number|  8| 1935|  27|       Bette Davis|\n",
            "|  9|2013.06|     81687|      null|     F|Number|  9| 1936|  27|      Luise Rainer|\n",
            "| 10|2013.09|     81471|      null|     F|Number| 10| 1937|  28|      Luise Rainer|\n",
            "| 11|2013.12|     93950|      null|     F|Number| 11| 1938|  30|       Bette Davis|\n",
            "| 12|2014.03|     97208|      null|     F|Number| 12| 1939|  26|      Vivien Leigh|\n",
            "| 13|2014.06|     85879|      null|     F|Number| 13| 1940|  29|     Ginger Rogers|\n",
            "| 14|2014.09|     84447|      null|     F|Number| 14| 1941|  24|     Joan Fontaine|\n",
            "+---+-------+----------+----------+------+------+---+-----+----+------------------+\n",
            "\n"
          ]
        }
      ]
    },
    {
      "cell_type": "markdown",
      "source": [
        "inner, cross, outer,\n",
        "full, fullouter, full_outer, left, leftouter, left_outer,\n",
        "right, rightouter, right_outer, semi, leftsemi, left_semi,\n",
        "anti, leftanti and left_anti."
      ],
      "metadata": {
        "id": "h34LiVyjLAgS"
      }
    }
  ]
}